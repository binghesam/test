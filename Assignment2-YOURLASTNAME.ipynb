{
 "cells": [
  {
   "cell_type": "code",
   "execution_count": 4,
   "metadata": {},
   "outputs": [],
   "source": [
    "import networkx as nx\n",
    "import collections\n",
    "import matplotlib.pyplot as plt\n",
    "import numpy as np\n",
    "import pandas as pd\n",
    "import numpy as np\n",
    "from powerlaw import *\n",
    "from collections import Counter\n",
    "import scipy"
   ]
  },
  {
   "cell_type": "markdown",
   "metadata": {},
   "source": [
    "# Part 0"
   ]
  },
  {
   "cell_type": "code",
   "execution_count": 3,
   "metadata": {},
   "outputs": [],
   "source": [
    "G = nx.DiGraph()\n",
    "#parse the \"blog.txt\" into graph\n",
    "file_name = \"blog.txt\"\n",
    "nodes = set()\n",
    "edges = []\n",
    "with open(file_name) as f:\n",
    "    for line in f:\n",
    "        node_a, node_b = line.strip().split(\" \")\n",
    "        nodes.add(node_a)\n",
    "        nodes.add(node_b)\n",
    "        edges.append((node_a, node_b))\n",
    "G.add_nodes_from(nodes)\n",
    "G.add_edges_from(edges)"
   ]
  },
  {
   "cell_type": "markdown",
   "metadata": {},
   "source": [
    "# Part 1"
   ]
  },
  {
   "cell_type": "markdown",
   "metadata": {},
   "source": [
    "## out_degree distribution"
   ]
  },
  {
   "cell_type": "code",
   "execution_count": 19,
   "metadata": {},
   "outputs": [
    {
     "data": {
      "text/plain": "OutDegreeView({'1': 15, '514': 7})"
     },
     "execution_count": 19,
     "metadata": {},
     "output_type": "execute_result"
    }
   ],
   "source": [
    "#Plot the out-degree distribution\n",
    "## L4: How to Plot Power-law Degree Distribution​\n",
    "# G.out_degree(['1', \"514\"])\n",
    "#G.nodes"
   ]
  },
  {
   "cell_type": "code",
   "execution_count": 64,
   "outputs": [
    {
     "data": {
      "text/plain": "OutDegreeView({'1190': 4, '24': 0, '39': 3, '475': 2, '497': 12, '633': 3, '846': 8, '1096': 0, '481': 0, '557': 14, '971': 0, '419': 2, '65': 23, '260': 35, '534': 24, '960': 4, '222': 24, '1181': 2, '692': 7, '1099': 23, '953': 11, '610': 4, '5': 46, '1045': 2, '1070': 6, '54': 1, '233': 42, '251': 0, '373': 12, '85': 1, '292': 37, '102': 39, '382': 12, '783': 17, '871': 12, '886': 5, '1001': 3, '315': 0, '1149': 0, '588': 0, '994': 4, '979': 2, '1167': 0, '581': 6, '453': 1, '569': 14, '933': 29, '228': 3, '885': 7, '814': 12, '544': 10, '650': 8, '484': 48, '177': 28, '1046': 1, '136': 0, '160': 59, '476': 6, '112': 42, '590': 1, '884': 33, '296': 27, '113': 0, '505': 0, '606': 0, '850': 21, '383': 8, '892': 79, '996': 0, '1083': 1, '256': 0, '1160': 0, '69': 10, '772': 18, '159': 109, '104': 17, '946': 0, '618': 3, '77': 0, '59': 88, '1157': 2, '815': 8, '751': 22, '265': 54, '375': 1, '489': 1, '680': 0, '625': 13, '317': 11, '55': 17, '662': 2, '116': 5, '520': 11, '129': 13, '148': 5, '455': 2, '19': 24, '154': 21, '541': 5, '794': 32, '119': 0, '574': 14, '987': 12, '1030': 8, '40': 45, '915': 11, '698': 6, '9': 10, '370': 61, '728': 6, '395': 2, '322': 1, '122': 34, '849': 8, '1028': 15, '961': 13, '14': 50, '121': 7, '688': 44, '52': 3, '271': 3, '702': 15, '848': 14, '923': 1, '1145': 1, '1208': 0, '186': 5, '1201': 4, '927': 87, '732': 5, '196': 4, '1210': 13, '201': 24, '454': 25, '800': 39, '30': 0, '888': 7, '801': 48, '150': 36, '1125': 7, '239': 6, '1194': 0, '214': 4, '470': 0, '636': 3, '361': 11, '282': 40, '79': 73, '691': 4, '714': 2, '951': 0, '6': 9, '229': 16, '1155': 3, '66': 131, '56': 1, '132': 3, '782': 12, '865': 0, '985': 43, '867': 38, '328': 3, '912': 0, '338': 54, '1052': 15, '737': 11, '163': 0, '204': 2, '231': 9, '681': 41, '1119': 29, '37': 55, '1180': 4, '451': 7, '635': 1, '747': 41, '938': 13, '82': 32, '18': 29, '339': 84, '536': 27, '600': 4, '679': 0, '1084': 1, '499': 6, '758': 1, '162': 1, '429': 10, '734': 9, '137': 50, '170': 4, '422': 9, '842': 5, '284': 11, '970': 18, '220': 9, '651': 52, '236': 2, '216': 3, '700': 2, '98': 31, '346': 35, '977': 2, '705': 0, '17': 43, '205': 4, '363': 1, '820': 18, '36': 3, '443': 1, '831': 14, '768': 2, '445': 110, '963': 0, '1206': 2, '552': 2, '345': 1, '1148': 5, '678': 91, '547': 40, '381': 0, '71': 80, '876': 9, '202': 8, '1143': 5, '517': 10, '755': 5, '3': 87, '537': 26, '379': 38, '898': 11, '762': 30, '1146': 17, '41': 43, '792': 12, '1094': 7, '660': 123, '883': 21, '611': 3, '485': 43, '767': 11, '596': 16, '428': 1, '323': 12, '1054': 8, '964': 7, '1006': 23, '553': 2, '378': 6, '490': 36, '582': 11, '780': 4, '791': 70, '837': 3, '771': 10, '1075': 2, '597': 2, '839': 26, '843': 2, '1047': 6, '954': 5, '683': 2, '67': 19, '685': 0, '769': 6, '93': 24, '1055': 1, '835': 8, '310': 20, '1117': 16, '1153': 3, '667': 5, '818': 16, '697': 1, '1014': 0, '1214': 1, '1141': 26, '63': 50, '486': 30, '25': 3, '879': 13, '1216': 18, '738': 69, '103': 7, '573': 1, '344': 31, '283': 20, '433': 3, '472': 8, '776': 13, '811': 28, '1161': 2, '967': 0, '744': 13, '637': 7, '213': 1, '1076': 4, '26': 36, '1139': 25, '624': 40, '1031': 2, '1207': 17, '188': 24, '645': 0, '1048': 19, '332': 8, '1170': 16, '156': 1, '872': 3, '424': 24, '275': 24, '816': 3, '976': 5, '1198': 17, '763': 42, '988': 6, '1049': 1, '995': 0, '756': 30, '549': 1, '512': 8, '1013': 6, '392': 22, '1137': 3, '1116': 2, '60': 46, '566': 2, '452': 1, '503': 2, '561': 0, '1022': 2, '712': 22, '49': 2, '406': 35, '567': 2, '1203': 3, '546': 3, '473': 9, '399': 18, '614': 0, '134': 18, '426': 1, '1164': 11, '237': 28, '648': 8, '718': 1, '695': 1, '836': 1, '1136': 19, '462': 3, '423': 1, '439': 2, '193': 59, '446': 4, '916': 5, '1113': 1, '656': 1, '246': 5, '510': 6, '568': 6, '306': 0, '545': 7, '10': 15, '8': 45, '687': 5, '58': 19, '644': 0, '431': 12, '131': 29, '169': 38, '299': 9, '647': 1, '1100': 0, '942': 43, '219': 26, '1219': 2, '720': 1, '615': 0, '277': 33, '173': 56, '168': 59, '309': 36, '513': 41, '125': 66, '252': 6, '416': 12, '671': 0, '765': 6, '936': 28, '704': 0, '723': 5, '1175': 16, '528': 1, '388': 7, '1138': 15, '441': 2, '75': 26, '1102': 3, '940': 1, '334': 30, '809': 18, '947': 0, '144': 14, '1043': 0, '187': 24, '518': 4, '171': 67, '760': 9, '1104': 6, '893': 8, '859': 14, '351': 0, '1211': 4, '415': 11, '1040': 0, '1093': 11, '124': 4, '74': 0, '147': 23, '120': 37, '268': 4, '456': 1, '210': 5, '488': 4, '498': 4, '646': 4, '96': 80, '1034': 21, '91': 8, '652': 11, '1051': 5, '804': 4, '207': 10, '587': 2, '726': 2, '358': 0, '397': 1, '179': 19, '775': 19, '327': 0, '666': 11, '208': 1, '759': 7, '711': 1, '1009': 7, '1126': 9, '641': 1, '311': 1, '44': 50, '609': 6, '852': 30, '877': 11, '480': 3, '1080': 5, '535': 70, '1086': 15, '347': 2, '696': 10, '821': 8, '1111': 32, '1183': 1, '215': 47, '255': 4, '786': 66, '950': 0, '133': 22, '1003': 22, '921': 4, '1002': 17, '1182': 3, '1179': 9, '1098': 6, '631': 26, '802': 69, '1186': 8, '326': 30, '959': 2, '180': 16, '621': 4, '203': 15, '273': 1, '348': 1, '1097': 2, '45': 4, '465': 1, '139': 0, '1000': 2, '464': 3, '471': 3, '218': 1, '1172': 7, '580': 30, '686': 4, '126': 27, '386': 6, '789': 2, '558': 0, '248': 71, '1042': 15, '107': 82, '897': 12, '570': 3, '889': 1, '984': 3, '910': 4, '661': 7, '161': 3, '788': 4, '774': 1, '743': 2, '242': 36, '291': 5, '1095': 11, '146': 27, '189': 0, '235': 74, '444': 2, '1197': 0, '325': 62, '1213': 2, '598': 8, '501': 73, '374': 14, '807': 34, '307': 2, '1144': 25, '32': 115, '1109': 10, '829': 103, '627': 3, '674': 8, '905': 3, '1191': 30, '564': 3, '185': 0, '586': 17, '900': 2, '117': 68, '896': 49, '926': 12, '785': 43, '589': 3, '1168': 23, '514': 7, '693': 1, '571': 1, '42': 12, '288': 12, '530': 1, '1056': 20, '864': 28, '870': 4, '542': 1, '745': 25, '890': 24, '278': 0, '87': 3, '461': 36, '249': 7, '543': 2, '956': 26, '1018': 24, '111': 62, '333': 2, '1078': 3, '190': 0, '141': 27, '463': 0, '626': 12, '847': 0, '224': 27, '591': 1, '1101': 13, '1020': 23, '318': 3, '324': 39, '1189': 2, '178': 62, '822': 9, '653': 55, '212': 6, '761': 3, '798': 18, '904': 18, '1008': 0, '1176': 1, '832': 16, '259': 0, '294': 30, '495': 24, '511': 8, '795': 0, '1158': 3, '287': 23, '858': 11, '703': 4, '659': 6, '312': 1, '601': 5, '217': 4, '949': 19, '34': 7, '1036': 0, '1041': 2, '175': 12, '1163': 13, '1074': 11, '62': 3, '1187': 1, '267': 88, '770': 5, '658': 4, '694': 11, '367': 6, '943': 2, '991': 41, '301': 6, '280': 18, '1016': 3, '563': 1, '922': 3, '391': 8, '496': 1, '64': 131, '1067': 0, '57': 30, '958': 10, '565': 6, '559': 2, '482': 0, '812': 20, '748': 23, '585': 2, '869': 30, '643': 14, '459': 56, '793': 6, '1124': 0, '27': 71, '908': 15, '642': 3, '526': 10, '873': 3, '70': 28, '533': 9, '616': 0, '95': 62, '269': 13, '502': 2, '548': 21, '944': 0, '975': 10, '123': 45, '579': 94, '875': 12, '1069': 0, '1039': 14, '53': 0, '80': 3, '279': 2, '572': 6, '1077': 1, '924': 9, '599': 3, '48': 49, '668': 6, '901': 0, '1204': 3, '20': 39, '320': 5, '23': 106, '1171': 1, '155': 40, '638': 58, '182': 72, '701': 4, '1114': 1, '389': 3, '1107': 18, '1090': 12, '272': 2, '108': 48, '337': 49, '417': 1, '974': 0, '1011': 0, '336': 0, '341': 1, '965': 17, '1015': 3, '1057': 1, '805': 6, '83': 32, '983': 3, '1154': 7, '1222': 2, '206': 15, '930': 14, '262': 0, '81': 20, '952': 11, '736': 72, '1062': 1, '887': 18, '640': 6, '1200': 2, '990': 0, '866': 9, '525': 3, '414': 13, '105': 140, '1188': 1, '12': 21, '1220': 3, '577': 0, '622': 0, '560': 0, '817': 5, '393': 23, '540': 5, '227': 3, '708': 0, '1217': 3, '343': 0, '51': 13, '1012': 0, '1151': 17, '1073': 2, '1150': 15, '78': 14, '628': 1, '28': 27, '706': 0, '787': 69, '874': 33, '350': 24, '603': 7, '716': 9, '469': 1, '722': 21, '735': 2, '43': 3, '753': 9, '1131': 0, '550': 4, '913': 44, '935': 21, '221': 3, '22': 96, '766': 74, '878': 2, '368': 1, '263': 1, '1122': 0, '362': 6, '158': 34, '608': 1, '827': 17, '909': 40, '1091': 0, '1142': 2, '404': 4, '89': 15, '1029': 1, '118': 86, '619': 3, '630': 1, '1133': 0, '1165': 0, '639': 1, '1019': 0, '184': 4, '824': 9, '372': 0, '1025': 3, '1192': 2, '247': 35, '1010': 14, '303': 8, '750': 4, '519': 33, '594': 23, '243': 24, '421': 6, '676': 0, '790': 23, '882': 4, '906': 0, '1112': 3, '1140': 20, '355': 0, '1059': 1, '1082': 2, '1035': 23, '799': 13, '357': 0, '398': 24, '1156': 2, '458': 2, '436': 14, '492': 4, '225': 1, '931': 17, '675': 67, '584': 27, '1205': 7, '412': 63, '1212': 1, '1120': 0, '16': 18, '394': 0, '450': 1, '602': 2, '754': 14, '957': 7, '634': 0, '725': 3, '167': 6, '891': 8, '1005': 2, '620': 0, '1071': 3, '298': 2, '1174': 15, '506': 0, '522': 9, '494': 5, '274': 23, '385': 16, '33': 40, '356': 6, '613': 0, '617': 0, '46': 14, '752': 34, '813': 0, '937': 1, '962': 17, '76': 17, '308': 1, '238': 57, '261': 25, '281': 37, '314': 7, '515': 48, '527': 3, '1021': 0, '1199': 9, '329': 0, '377': 1, '88': 0, '331': 7, '555': 0, '727': 0, '1221': 1, '739': 10, '106': 66, '164': 13, '174': 0, '438': 2, '491': 7, '857': 42, '457': 11, '1050': 17, '192': 0, '376': 4, '733': 2, '152': 9, '172': 73, '1105': 4, '151': 91, '352': 54, '538': 21, '948': 1, '719': 2, '240': 35, '997': 0, '110': 9, '1087': 18, '699': 10, '2': 29, '257': 0, '4': 16, '1061': 1, '1177': 3, '657': 1, '551': 57, '826': 31, '241': 57, '516': 41, '1184': 17, '142': 21, '427': 0, '140': 11, '740': 53, '993': 32, '114': 53, '21': 0, '810': 17, '856': 30, '264': 2, '181': 1, '830': 24, '663': 11, '808': 14, '1195': 3, '230': 0, '1088': 3, '781': 0, '266': 26, '440': 1, '387': 5, '61': 41, '420': 38, '592': 1, '784': 47, '35': 36, '881': 8, '689': 70, '1044': 16, '999': 17, '183': 5, '360': 3, '402': 20, '917': 12, '868': 25, '1166': 4, '576': 6, '483': 18, '293': 12, '94': 55, '176': 0, '1033': 16, '509': 8, '1115': 16, '200': 42, '669': 8, '682': 2, '863': 20, '918': 3, '1081': 1, '401': 5, '854': 0, '100': 3, '1053': 4, '605': 96, '1159': 0, '1185': 17, '366': 0, '925': 3, '902': 1, '7': 0, '487': 35, '851': 2, '1134': 19, '478': 11, '583': 14, '191': 1, '371': 8, '316': 0, '1196': 0, '1209': 0, '895': 16, '1129': 2, '153': 70, '556': 0, '15': 15, '195': 6, '690': 0, '649': 0, '1026': 9, '1103': 49, '460': 3, '803': 14, '1173': 14, '612': 0, '73': 8, '90': 47, '369': 6, '365': 20, '302': 256, '1037': 1, '654': 30, '838': 6, '1032': 2, '730': 5, '1135': 0, '1169': 8, '903': 17, '418': 0, '828': 13, '403': 16, '978': 26, '250': 38, '390': 14, '604': 1, '932': 10, '38': 34, '413': 33, '992': 44, '135': 43, '968': 8, '245': 4, '757': 11, '97': 37, '709': 5, '234': 0, '448': 1, '223': 5, '468': 1, '907': 6, '1063': 1, '84': 40, '1118': 2, '1123': 8, '408': 13, '289': 31, '797': 6, '1064': 39, '1110': 27, '524': 1, '819': 0, '779': 45, '1224': 1, '1065': 4, '99': 62, '197': 9, '432': 29, '777': 32, '972': 0, '364': 1, '677': 24, '500': 4, '928': 13, '138': 17, '998': 1, '607': 16, '1106': 9, '384': 18, '396': 9, '359': 9, '442': 1, '629': 7, '330': 6, '425': 27, '655': 11, '825': 5, '145': 62, '562': 2, '149': 25, '623': 13, '742': 33, '715': 8, '986': 2, '1085': 0, '232': 1, '285': 32, '521': 11, '834': 8, '109': 51, '899': 10, '209': 27, '29': 51, '286': 11, '493': 0, '335': 18, '532': 4, '672': 0, '1202': 3, '707': 0, '840': 2, '973': 0, '354': 10, '477': 1, '914': 0, '437': 11, '746': 53, '919': 3, '539': 113, '1058': 9, '1223': 1, '353': 28, '405': 17, '531': 5, '300': 8, '684': 24, '966': 7, '1023': 0, '713': 6, '1152': 4, '796': 0, '165': 26, '380': 3, '72': 13, '194': 10, '68': 61, '860': 12, '1': 15, '50': 69, '1068': 14, '434': 2, '466': 10, '31': 23, '295': 6, '270': 86, '523': 7, '128': 54, '578': 83, '1147': 15, '980': 0, '479': 40, '1079': 29, '969': 2, '554': 2, '845': 13, '1060': 9, '894': 19, '841': 16, '833': 16, '447': 8, '304': 4, '665': 1, '449': 14, '226': 2, '595': 4, '1024': 33, '729': 1, '934': 6, '1193': 2, '529': 1, '143': 0, '13': 82, '101': 43, '1072': 33, '321': 4, '410': 18, '989': 0, '575': 5, '1092': 3, '1162': 1, '855': 0, '670': 13, '130': 1, '806': 1, '941': 15, '199': 3, '741': 54, '92': 5, '862': 3, '717': 1, '297': 0, '319': 4, '507': 1, '664': 3, '632': 41, '731': 1, '929': 39, '853': 0, '1004': 15, '593': 31, '1130': 1, '258': 53, '778': 49, '1218': 46, '409': 1, '430': 6, '911': 1, '253': 2, '981': 1, '290': 33, '349': 7, '844': 60, '945': 0, '1017': 5, '400': 0, '764': 17, '710': 0, '1108': 0, '305': 0, '1121': 25, '254': 10, '724': 1, '823': 6, '198': 5, '721': 4, '276': 2, '1027': 0, '86': 28, '1215': 56, '115': 13, '1038': 16, '508': 19, '1066': 1, '411': 15, '749': 17, '127': 81, '166': 4, '1132': 10, '1127': 4, '1007': 9, '244': 47, '1089': 2, '504': 14, '47': 11, '939': 12, '1178': 3, '340': 0, '474': 20, '955': 2, '920': 6, '982': 60, '342': 25, '157': 37, '407': 11, '211': 7, '467': 9, '1128': 3, '880': 2, '773': 0, '861': 30, '313': 0, '673': 4, '11': 14, '435': 0})"
     },
     "execution_count": 64,
     "metadata": {},
     "output_type": "execute_result"
    }
   ],
   "source": [
    "G.out_degree(list(nodes))\n"
   ],
   "metadata": {
    "collapsed": false,
    "pycharm": {
     "name": "#%%\n"
    }
   }
  },
  {
   "cell_type": "code",
   "execution_count": 61,
   "outputs": [
    {
     "name": "stderr",
     "output_type": "stream",
     "text": [
      "D:\\softwareInstall\\anoconda\\lib\\site-packages\\ipykernel_launcher.py:27: RuntimeWarning: divide by zero encountered in log10\n",
      "D:\\softwareInstall\\anoconda\\lib\\site-packages\\ipykernel_launcher.py:46: RuntimeWarning: divide by zero encountered in log10\n"
     ]
    },
    {
     "data": {
      "text/plain": "<Figure size 432x288 with 2 Axes>",
      "image/png": "[encoded data removed]"
     },
     "metadata": {
      "needs_background": "light"
     },
     "output_type": "display_data"
    },
    {
     "data": {
      "text/plain": "<Figure size 432x288 with 2 Axes>",
      "image/png": "[encoded data removed]"
     },
     "metadata": {
      "needs_background": "light"
     },
     "output_type": "display_data"
    }
   ],
   "source": [
    "out_edges_distribution = list(dict(G.out_degree(list(nodes))).values())\n",
    "edges_distri = out_edges_distribution\n",
    "\n",
    "def degree_distribution(edges_distri):\n",
    "    tot_edges = len(edges_distri) # sum(edges_distri)\n",
    "    edges_stat = Counter(edges_distri)\n",
    "\n",
    "    edges_stat_sorted = {key: value/tot_edges for key, value in sorted(edges_stat.items(),\n",
    "                                                           key=lambda item: int(item[0]))}\n",
    "    # # linear-scaled bins\n",
    "    # bins_linear = np.linspace(0,len(edges_distri), len(edges_distri)+1)\n",
    "    # linear_width = (bins_linear[1:] -  bins_linear[:-1])\n",
    "    #\n",
    "    # # log-scaled bins\n",
    "    # bins_log = np.logspace(0, 3, 15)\n",
    "    # log_width = (bins_log[1:] -  bins_log[:-1])\n",
    "\n",
    "\n",
    "    # for linear linear scale\n",
    "    plt.subplot(2,2,1)\n",
    "    plt.scatter(list(edges_stat_sorted.keys()), list(edges_stat_sorted.values()))\n",
    "    plt.title('Linear Scale')\n",
    "\n",
    "    # linear binning\n",
    "    ax2=plt.subplot(2,2,2)\n",
    "    # np.log10(value)\n",
    "    edges_stat_sorted_linear_binning = {np.log10(key): value for key, value in edges_stat_sorted.items()}\n",
    "    plt.scatter(list(edges_stat_sorted_linear_binning.keys()),\n",
    "                list(edges_stat_sorted_linear_binning.values()))\n",
    "    plt.title('Linear Binning')\n",
    "    # ax2.set_ylabel('')\n",
    "    plt.yscale(\"log\")\n",
    "    ax2.set_xlabel('degree (unit: *e1)')\n",
    "    plt.show()\n",
    "\n",
    "    # log-binning\n",
    "    # TODO: check it back to see the difference\n",
    "    # TODO-FINAL --- any difference setting?\n",
    "    plt.subplot(2,2,3)\n",
    "    plt.scatter(list(edges_stat_sorted_linear_binning.keys()),\n",
    "                list(edges_stat_sorted_linear_binning.values()))\n",
    "    # cumulative\n",
    "    ax4 = plt.subplot(2,2,4)\n",
    "    probs = list(edges_stat_sorted.values())\n",
    "    cumu_probl = [sum(probs[idx::1]) for idx in range(len(probs))]\n",
    "    plt.scatter( [np.log10(i) for i in list(edges_stat_sorted.keys())], [i for i in list(cumu_probl)] )\n",
    "    plt.yscale(\"log\")\n",
    "    ax4.set_xlabel('degree (unit: *e1)')\n",
    "    return edges_stat_sorted\n",
    "\n",
    "edges_stat_sorted = degree_distribution(edges_distri)"
   ],
   "metadata": {
    "collapsed": false,
    "pycharm": {
     "name": "#%%\n"
    }
   }
  },
  {
   "cell_type": "markdown",
   "metadata": {},
   "source": [
    "### fitting without xmax"
   ]
  },
  {
   "cell_type": "code",
   "execution_count": 70,
   "metadata": {},
   "outputs": [
    {
     "name": "stdout",
     "output_type": "stream",
     "text": [
      "Value of Exponent:  1.136249004416194\n",
      "Minimum x-value:  0.015522875816993464\n",
      "Value of Exponent:  1.0000028084231296\n",
      "Minimum x-value:  0.011437908496732025\n"
     ]
    },
    {
     "name": "stderr",
     "output_type": "stream",
     "text": [
      "Calculating best minimal value for power law fit\n",
      "Calculating best minimal value for power law fit\n"
     ]
    }
   ],
   "source": [
    "#fit the out-degree distributon without x_max\n",
    "# TODO, 1) we should first fill in the gap of the zeros, then filtered by xmin\n",
    "# 2) specifically, remove the pmin usage\n",
    "\n",
    "# staroint associated with xmin\n",
    "# 3) two dimension array for xt_index = 0\n",
    "# for key, value in edges_stat_sorted.items():\n",
    "#     pass\n",
    "\n",
    "results = powerlaw.Fit(list(edges_stat_sorted.values()), discrete=True)\n",
    "\n",
    "print('Value of Exponent: ', results.power_law.alpha)\n",
    "print('Minimum x-value: ', results.power_law.xmin)\n",
    "\n",
    "### fitting wit xmax\n",
    "results = powerlaw.Fit(list(edges_stat_sorted.values()), xmax=200, discrete=True)\n",
    "print('Value of Exponent: ', results.power_law.alpha)\n",
    "print('Minimum x-value: ', results.power_law.xmin)\n",
    "\n",
    "# comparison only\n",
    "# https://github.com/jeffalstott/powerlaw\n",
    "# R, p = results.distribution_compare('power_law', 'lognormal')\n",
    "# print(R, p)"
   ]
  },
  {
   "cell_type": "markdown",
   "metadata": {},
   "source": []
  },
  {
   "cell_type": "code",
   "execution_count": 5,
   "metadata": {},
   "outputs": [],
   "source": [
    "#fit the out-degree distributon with x_max = 200"
   ]
  },
  {
   "cell_type": "markdown",
   "metadata": {},
   "source": [
    "## in_degree distribution"
   ]
  },
  {
   "cell_type": "code",
   "execution_count": 54,
   "metadata": {},
   "outputs": [
    {
     "name": "stderr",
     "output_type": "stream",
     "text": [
      "D:\\softwareInstall\\anoconda\\lib\\site-packages\\ipykernel_launcher.py:27: RuntimeWarning: divide by zero encountered in log10\n",
      "D:\\softwareInstall\\anoconda\\lib\\site-packages\\ipykernel_launcher.py:46: RuntimeWarning: divide by zero encountered in log10\n"
     ]
    },
    {
     "data": {
      "text/plain": "<Figure size 432x288 with 2 Axes>",
      "image/png": "[encoded data removed]"
     },
     "metadata": {
      "needs_background": "light"
     },
     "output_type": "display_data"
    },
    {
     "data": {
      "text/plain": "<Figure size 432x288 with 2 Axes>",
      "image/png": "[encoded data removed]"
     },
     "metadata": {
      "needs_background": "light"
     },
     "output_type": "display_data"
    }
   ],
   "source": [
    "#Plot the in-degree distribution\n",
    "in_edges_distribution = list(dict(G.in_degree(list(nodes))).values())\n",
    "edges_distri = in_edges_distribution\n",
    "edges_stat_sorted = degree_distribution(edges_distri)"
   ]
  },
  {
   "cell_type": "markdown",
   "metadata": {},
   "source": []
  },
  {
   "cell_type": "code",
   "execution_count": 63,
   "metadata": {},
   "outputs": [
    {
     "name": "stdout",
     "output_type": "stream",
     "text": [
      "2.4470437623121537\n",
      "0.014705882352941176\n",
      "2.4470437623121537\n",
      "0.014705882352941176\n"
     ]
    },
    {
     "name": "stderr",
     "output_type": "stream",
     "text": [
      "Calculating best minimal value for power law fit\n",
      "Calculating best minimal value for power law fit\n"
     ]
    }
   ],
   "source": [
    "#fit the in-degree distributon without x_max\n",
    "### fitting with xmax\n",
    "### fitting without xmax\n",
    "results = powerlaw.Fit(list(edges_stat_sorted.values()), xmax=None, discrete=True)\n",
    "print('Value of Exponent: ', results.power_law.alpha)\n",
    "print('Minimum x-value: ', results.power_law.xmin)\n",
    "\n",
    "\n",
    "### fitting wit xmax\n",
    "results = powerlaw.Fit(list(edges_stat_sorted.values()), xmax=300, discrete=True)\n",
    "print('Value of Exponent: ', results.power_law.alpha)\n",
    "print('Minimum x-value: ', results.power_law.xmin)"
   ]
  },
  {
   "cell_type": "markdown",
   "metadata": {},
   "source": []
  },
  {
   "cell_type": "code",
   "execution_count": 8,
   "metadata": {},
   "outputs": [],
   "source": [
    "#fit the in-degree distributon with x_max = 300"
   ]
  },
  {
   "cell_type": "markdown",
   "metadata": {},
   "source": [
    "# Part 2"
   ]
  },
  {
   "cell_type": "markdown",
   "metadata": {},
   "source": [
    "## Q1"
   ]
  },
  {
   "cell_type": "code",
   "execution_count": 76,
   "metadata": {},
   "outputs": [
    {
     "name": "stdout",
     "output_type": "stream",
     "text": [
      "-0.22117675119889957\n",
      "Assortativity of graph by degree:  -0.2\n",
      "correlation coefficient:  -0.19641242009051185\n",
      "p_value:  9.042594142358764e-165\n"
     ]
    }
   ],
   "source": [
    "#Compute the Pearson correlation coefficieient\n",
    "# reference: https://networkx.github.io/documentation/networkx-1.9/reference/generated/networkx.algorithms.assortativity.degree_pearson_correlation_coefficient.html\n",
    "\n",
    "# will change (0,1) and (1, 0) to only (0,1)\n",
    "undirected_G = G.to_undirected()\n",
    "r=nx.degree_pearson_correlation_coefficient(undirected_G)\n",
    "print(r)\n",
    "\n",
    "\n",
    "\n",
    "# from pydoc import help\n",
    "from scipy.stats.stats import pearsonr\n",
    "\n",
    "#Create an empty graph structure (a “null graph”) with no nodes and no edges.\n",
    "blog_content_undirect = nx.MultiGraph()\n",
    "\n",
    "#Store nodes and edges\n",
    "blog_content_undirect.add_nodes_from(G.nodes())\n",
    "blog_content_undirect.add_edges_from(G.edges())\n",
    "r = nx.degree_pearson_correlation_coefficient(blog_content_undirect, nodes= list(set(nodes)))\n",
    "print('Assortativity of graph by degree: ',f\"{r:3.1f}\")\n",
    "\n",
    "\n",
    "# a pair of adjacent nodes in each edge\n",
    "corr_degree_nodeA = []\n",
    "corr_degree_nodeB = []\n",
    "for i in blog_content_undirect.edges():\n",
    "  node_a = i[0]\n",
    "  node_b = i[1]\n",
    "\n",
    "  corr_degree_nodeA.append((blog_content_undirect.degree(node_a)))\n",
    "  corr_degree_nodeB.append((blog_content_undirect.degree(node_b)))\n",
    "\n",
    "# significance of correlation coefficient\n",
    "corr, p_value = pearsonr(corr_degree_nodeA, corr_degree_nodeB)\n",
    "print('correlation coefficient: ', corr)\n",
    "print('p_value: ', p_value)"
   ]
  },
  {
   "cell_type": "markdown",
   "metadata": {},
   "source": [
    "Based on the value of the Pearson correlation coefficient, write 1-2 sentences of the graph's assortativity.\n",
    "\n",
    "\n",
    "My answer:\n",
    "\n",
    "The significance of PCC is to show you how strongly correlated the two variables/lists are. The graph is disassortative. Assortativity is expressed as a scalar value between -1 and 1. A network is said to be disassortative when, on average, high degree nodes are connected to nodes with low(er) degree and, on average, low degree nodes are connected to nodes with high(er) degree."
   ]
  },
  {
   "cell_type": "markdown",
   "metadata": {},
   "source": [
    "## Q2"
   ]
  },
  {
   "cell_type": "code",
   "execution_count": 82,
   "metadata": {},
   "outputs": [
    {
     "data": {
      "text/plain": "<matplotlib.collections.PathCollection at 0x20f7b074e88>"
     },
     "execution_count": 82,
     "metadata": {},
     "output_type": "execute_result"
    },
    {
     "data": {
      "text/plain": "<Figure size 432x288 with 1 Axes>",
      "image/png": "[encoded data removed]"
     },
     "metadata": {
      "needs_background": "light"
     },
     "output_type": "display_data"
    }
   ],
   "source": [
    "#Plot the average neighbor degree as a function of the node degree k\n",
    "\n",
    "avg_node_degree = nx.average_neighbor_degree(undirected_G)\n",
    "each_node_degree = {node: val for (node, val) in undirected_G.degree()}\n",
    "# make the match\n",
    "node_degree_2_avg_node_neighbor_degree = {}\n",
    "node_degree_2_avg_node_neighbor_degree_with_std = {}\n",
    "for node, degree in each_node_degree.items():\n",
    "    avg_neighbor_degree = avg_node_degree[node]\n",
    "    if degree in node_degree_2_avg_node_neighbor_degree:\n",
    "        node_degree_2_avg_node_neighbor_degree[degree].append(avg_neighbor_degree)\n",
    "    else:\n",
    "        node_degree_2_avg_node_neighbor_degree[degree] = [avg_neighbor_degree]\n",
    "# compute the global avg\n",
    "for key in node_degree_2_avg_node_neighbor_degree.keys():\n",
    "    degrees = node_degree_2_avg_node_neighbor_degree[key]\n",
    "    node_degree_2_avg_node_neighbor_degree[key] = sum(degrees)/len(degrees)\n",
    "    node_degree_2_avg_node_neighbor_degree_with_std[key] = np.std(degrees)\n",
    "# rank for plot\n",
    "sorted_results = {key: value for key, value in sorted(node_degree_2_avg_node_neighbor_degree.items(),\n",
    "                                                       key=lambda item: int(item[0]))}\n",
    "\n",
    "sorted_results_std = {key: value for key, value in sorted(node_degree_2_avg_node_neighbor_degree_with_std.items(),\n",
    "                                                       key=lambda item: int(item[0]))}\n",
    "\n",
    "sorted_results_std_low = {}\n",
    "sorted_results_std_high = {}\n",
    "\n",
    "for key in sorted_results.keys():\n",
    "    sorted_results_std_low[key] = sorted_results[key] - sorted_results_std[key]\n",
    "    sorted_results_std_high[key] = sorted_results[key] + sorted_results_std[key]\n",
    "\n",
    "plt.plot(list(sorted_results.keys()), list(sorted_results.values()), c=\"b\")\n",
    "plt.scatter(list(sorted_results.keys()), list(sorted_results_std_low.values()), c=\"r\")\n",
    "plt.scatter(list(sorted_results.keys()), list(sorted_results_std_high.values()), c=\"r\")\n",
    "\n"
   ]
  },
  {
   "cell_type": "markdown",
   "metadata": {},
   "source": [
    "It is disassortative.\n",
    "As we all know, a network is said to be disassortative when, on average, high degree nodes are connected to nodes with low(er) degree and, on average, low degree nodes are connected to nodes with high(er) degree.\n",
    "Thus, we can see  the low degree connects to the high-degree nodes, in the left part!\n",
    "\n",
    "At the same time, we plot the error bar to justify it! As we can see the blue line is the average neighbor degree.\n",
    "And the red dots are the standard deviation+value. From this, we can see that, the value in the blue line is well\n",
    "bounded by the red dots. It means that the deviation is not that large. And the result is reasonable. Especially,\n",
    "we can see when the degree is larger, the deviation is relatively small.\n",
    "\n",
    "# Part 3"
   ]
  },
  {
   "cell_type": "markdown",
   "metadata": {},
   "source": [
    "## Q1"
   ]
  },
  {
   "cell_type": "code",
   "execution_count": 87,
   "metadata": {},
   "outputs": [
    {
     "name": "stdout",
     "output_type": "stream",
     "text": [
      "the result node is  is: 793\n",
      "the avg diamter of 100 gnp graph is:  3.0\n",
      "the avg avg shortest path of 100 gnp graps is:  2.1788622989032826\n"
     ]
    }
   ],
   "source": [
    "#plot the diameters of the LCC and the 100 G(n,p) networks\n",
    "\n",
    "# view the graph for the checking\n",
    "# for subgraph in nx.weakly_connected_components(G):\n",
    "#     print(subgraph)\n",
    "\n",
    "# advanced setting, key=len\n",
    "res = max(nx.strongly_connected_components(G), key=lambda item: len(item))\n",
    "print(\"the result node is  is: {}\".format(round(len(res))))\n",
    "\n",
    "cc_G = G.subgraph(res)\n",
    "undirected_cc_G = cc_G.to_undirected()\n",
    "\n",
    "# method 1: for the traversal\n",
    "# length = dict(nx.all_pairs_dijkstra_path_length(undirected_cc_G, weight=None))\n",
    "# x = []\n",
    "# for u in undirected_cc_G.nodes():\n",
    "#     for v in undirected_cc_G.nodes():\n",
    "#     # note that, similar to the previous distribution, we inlude the the cond\n",
    "#     # like the previous solution, we can have u != v to exlude some pairs\n",
    "#     # for simplicity, we remove this\n",
    "#     x.append(length[u][v])\n",
    "#     x, count = np.unique(x, return_counts=True)\n",
    "# # we should only consider the half of the value\n",
    "# plt.bar(x, count/2)\n",
    "\n",
    "# method 2:\n",
    "\n",
    "def shortest_path_finding(graph):\n",
    "    length = dict(nx.all_pairs_dijkstra_path_length(graph, weight=None))\n",
    "    nodes_list = list(graph.nodes())\n",
    "    shortest_paths = []\n",
    "    for i in range(0, len(nodes_list)-1):\n",
    "        # print(i)\n",
    "        for j in range(i+1, len(nodes_list)):\n",
    "            # TODO: in gnp graph, we may have no path i and j then, ignore it\n",
    "            try:\n",
    "                shortest_paths.append(length[nodes_list[i]][nodes_list[j]])\n",
    "            except KeyError:\n",
    "                continue\n",
    "    # print(\"stop one round\")\n",
    "    return shortest_paths\n",
    "\n",
    "# length = dict(nx.all_pairs_dijkstra_path_length(undirected_cc_G, weight=None))\n",
    "# nodes_list = list(undirected_cc_G.nodes())\n",
    "# shortest_paths = []\n",
    "# for i in range(0, len(nodes_list)-1):\n",
    "#     for j in range(i+1, len(nodes_list)):\n",
    "#         shortest_paths.append(length[nodes_list[i]][nodes_list[j]])\n",
    "# shortest_paths = nx.diameter(undirected_cc_G)  # shortest_path_finding(undirected_cc_G)\n",
    "org_diameter = nx.diameter(undirected_cc_G) # max(shortest_paths)\n",
    "org_avg_shorted_path = nx.average_shortest_path_length(undirected_cc_G) # sum(shortest_paths)/len(shortest_paths)\n",
    "# print(\"the diameter is: \", max(shortest_paths))\n",
    "# print(\"the average of the shortest paths is: \", sum(shortest_paths)/len(shortest_paths))\n",
    "\n",
    "num_node = len(undirected_cc_G.nodes())\n",
    "num_ege = len(undirected_cc_G.edges())\n",
    "p = num_ege/(num_node*(num_node-1)/2) # previous, not edge, but node\n",
    "# generate the G(n,p) graph\n",
    "diameters = []\n",
    "avg_shortest_path = []\n",
    "gnp_graphs = []\n",
    "for iteration in range(100):\n",
    "    gnp_graph = nx.gnp_random_graph(num_node, p)\n",
    "    gnp_graphs.append(gnp_graph)\n",
    "    # shortest_paths = shortest_path_finding(gnp_graph)\n",
    "    diameters.append(nx.diameter(gnp_graph)) #(max(shortest_paths))\n",
    "    avg_shortest_path.append(nx.average_shortest_path_length(gnp_graph)) # (sum(shortest_paths)/len(shortest_paths))\n",
    "\n",
    "print(\"the avg diamter of 100 gnp graph is: \", sum(diameters)/len(diameters))\n",
    "print(\"the avg avg shortest path of 100 gnp graps is: \", sum(avg_shortest_path)/len(avg_shortest_path))\n"
   ]
  },
  {
   "cell_type": "code",
   "execution_count": 88,
   "outputs": [
    {
     "data": {
      "text/plain": "(array([0., 0., 0., 0., 0., 1., 0., 0., 0., 0.]),\n array([4.5, 4.6, 4.7, 4.8, 4.9, 5. , 5.1, 5.2, 5.3, 5.4, 5.5]),\n <a list of 10 Patch objects>)"
     },
     "execution_count": 88,
     "metadata": {},
     "output_type": "execute_result"
    },
    {
     "data": {
      "text/plain": "<Figure size 432x288 with 1 Axes>",
      "image/png": "[encoded data removed]"
     },
     "metadata": {
      "needs_background": "light"
     },
     "output_type": "display_data"
    }
   ],
   "source": [
    "# figure commparison\n",
    "\n",
    "plt.hist(diameters)\n",
    "plt.hist(org_diameter)\n"
   ],
   "metadata": {
    "collapsed": false,
    "pycharm": {
     "name": "#%%\n"
    }
   }
  },
  {
   "cell_type": "code",
   "execution_count": 89,
   "outputs": [
    {
     "data": {
      "text/plain": "(array([0., 0., 0., 0., 0., 1., 0., 0., 0., 0.]),\n array([1.92359917, 2.02359917, 2.12359917, 2.22359917, 2.32359917,\n        2.42359917, 2.52359917, 2.62359917, 2.72359917, 2.82359917,\n        2.92359917]),\n <a list of 10 Patch objects>)"
     },
     "execution_count": 89,
     "metadata": {},
     "output_type": "execute_result"
    },
    {
     "data": {
      "text/plain": "<Figure size 432x288 with 1 Axes>",
      "image/png": "[encoded data removed]"
     },
     "metadata": {
      "needs_background": "light"
     },
     "output_type": "display_data"
    }
   ],
   "source": [
    "plt.hist(avg_shortest_path)\n",
    "plt.hist(org_avg_shorted_path)"
   ],
   "metadata": {
    "collapsed": false,
    "pycharm": {
     "name": "#%%\n"
    }
   }
  },
  {
   "cell_type": "code",
   "execution_count": 112,
   "outputs": [],
   "source": [
    "# problem,  the function does not pass gnp graph\n",
    "\n",
    "# print(\"stop one round\")"
   ],
   "metadata": {
    "collapsed": false,
    "pycharm": {
     "name": "#%%\n"
    }
   }
  },
  {
   "cell_type": "code",
   "execution_count": 112,
   "outputs": [],
   "source": [],
   "metadata": {
    "collapsed": false,
    "pycharm": {
     "name": "#%%\n"
    }
   }
  },
  {
   "cell_type": "markdown",
   "metadata": {},
   "source": [
    "## Q2\n",
    "It is computed in the above programs."
   ]
  },
  {
   "cell_type": "code",
   "execution_count": 129,
   "metadata": {},
   "outputs": [
    {
     "data": {
      "text/plain": "4.877763982124316"
     },
     "execution_count": 129,
     "metadata": {},
     "output_type": "execute_result"
    }
   ],
   "source": [
    "#plot the average shortest path length of the LCC and the 100 G(n,p) networks\n",
    "# for Part 3-3\n",
    "# for the Gaussian distribution, we can get the average from the previous experiments,\n",
    "# then, we can use the average results to simulate the Gaussian distributions results\n",
    "# TODO: to check and think\n",
    "\n",
    "def sequence_significance_test(seq, tested_value):\n",
    "    lower_bound = np.mean(seq) - 1.96* np.std(seq)/np.sqrt(len(seq))\n",
    "    higher_bound = np.mean(seq) + 1.96* np.std(seq)/np.sqrt(len(seq))\n",
    "    if lower_bound <= tested_value and tested_value <= higher_bound:\n",
    "        print(\" it is not statistically significant \")\n",
    "    elif tested_value < lower_bound:\n",
    "        print(\" the tested value (orignial value) is smaller than the opposite part of the random generation with 95% \\\n",
    "        confidence\")\n",
    "    else:\n",
    "        assert tested_value > higher_bound\n",
    "        print(\" the tested value (orignial value) is larger than the opposite part of the random generation with 95% \\\n",
    "        confidence\")\n",
    "\n",
    "print(\"for the diamter, we have: \")\n",
    "sequence_significance_test(diameters, org_diameter)\n",
    "\n",
    "print(\"for the average shortest path, we have: \")\n",
    "sequence_significance_test(avg_shortest_path, org_avg_shorted_path)"
   ]
  },
  {
   "cell_type": "markdown",
   "metadata": {},
   "source": [
    "Can we say with statistical significance of 95% that the former is smaller (or larger) than the diameter or the average shortest path lengths of the corresponding random networks and give appropriate reason why is this difference happen?\n",
    "Yes."
   ]
  },
  {
   "cell_type": "markdown",
   "metadata": {},
   "source": [
    "Yes, the result is presented. TODO-FINAL\n",
    "# Part 4"
   ]
  },
  {
   "cell_type": "markdown",
   "metadata": {},
   "source": [
    "## Q1"
   ]
  },
  {
   "cell_type": "code",
   "execution_count": 90,
   "metadata": {},
   "outputs": [
    {
     "name": "stdout",
     "output_type": "stream",
     "text": [
      "{'39': 0.2648221343873518, '633': 1.0, '846': 0.28792912513842744, '557': 0.39766081871345027, '65': 0.47, '260': 0.5040650406504065, '534': 0.21841704718417046, '960': 0.5, '222': 0.22345175694039993, '692': 0.6111111111111112, '953': 0.2222222222222222, '5': 0.12109459168282698, '1045': 1.0, '1070': 0.4, '54': 1.0, '233': 0.22995169082125605, '373': 0.3333333333333333, '292': 0.5397435897435897, '102': 0.463768115942029, '382': 0.6909090909090909, '783': 0.5416666666666666, '871': 0.23809523809523808, '886': 0.23636363636363636, '1001': 0.5, '994': 0.3333333333333333, '979': 1.0, '581': 0.26143790849673204, '933': 0.3671497584541063, '228': 0, '885': 0.26666666666666666, '814': 0.3787878787878788, '650': 0.25, '484': 0.3690821256038647, '177': 0.12538176265270506, '1046': 0, '160': 0.19051799824407376, '476': 0.2, '112': 0.4485370950888192, '884': 0.4211822660098522, '296': 0.5320197044334976, '850': 0.4166666666666667, '383': 0.6190476190476191, '892': 0.2872444011684518, '1083': 1.0, '69': 0.4072565716401333, '772': 0.20621991854868568, '159': 0.31336996336996337, '104': 0.5114135206321334, '618': 0.7, '59': 0.4078140960163432, '1157': 1.0, '815': 0.23809523809523808, '751': 0.46825396825396826, '265': 0.5119855269109, '625': 0.3974358974358974, '317': 0.6727272727272727, '55': 0.09359111166907287, '116': 0.33076923076923076, '520': 0.5636363636363636, '129': 0.5217391304347826, '148': 0.21906116642958748, '19': 0.3526570048309179, '154': 0.446530612244898, '541': 0.5357142857142857, '794': 0.25825825825825827, '987': 0.24242424242424243, '1030': 0.47619047619047616, '40': 0.3288335064035999, '9': 0.21621621621621623, '370': 0.29185867895545314, '322': 0.7, '122': 0.3028083028083028, '849': 0.3939393939393939, '1028': 0.5494505494505495, '961': 0.5494505494505495, '14': 0.32947612034504525, '121': 0.156604025056644, '688': 0.3178294573643411, '52': 0.3333333333333333, '271': 0.2, '848': 0.5274725274725275, '1145': 1.0, '186': 0.11815336463223787, '927': 0.26022408963585436, '196': 0.4642857142857143, '201': 0.4492307692307692, '800': 0.37695590327169276, '801': 0.3681159420289855, '150': 0.4081967213114754, '239': 0.6, '214': 0.3939393939393939, '361': 0.6666666666666666, '282': 0.561877667140825, '79': 0.3831526271893244, '691': 0.3055555555555556, '714': 0.3333333333333333, '6': 0.19658375786634702, '229': 0.2523809523809524, '1155': 0.3333333333333333, '66': 0.30851612903225806, '132': 0.175, '782': 0.1951219512195122, '985': 0.2901849217638691, '867': 0.3253968253968254, '328': 0.4666666666666667, '338': 0.4244751664106503, '737': 0.32727272727272727, '204': 0.4, '231': 0.6888888888888889, '681': 0.08305647840531562, '1119': 0.47293447293447294, '37': 0.31560490940970193, '451': 0.28102836879432624, '635': 1.0, '747': 0.43964562569213733, '938': 0.43790849673202614, '82': 0.5681632653061225, '18': 0.5507936507936508, '339': 0.24568868980963046, '536': 0.34581105169340465, '600': 0.2, '1084': 0.26666666666666666, '758': 0.13974358974358975, '429': 0.2909090909090909, '734': 0.38095238095238093, '137': 0.41156462585034015, '170': 0.37318840579710144, '422': 0.16666666666666666, '842': 0.6666666666666666, '284': 0.47237076648841353, '970': 0.3619047619047619, '220': 0.2746031746031746, '651': 0.21568627450980393, '216': 0.7, '98': 0.5365402405180388, '346': 0.47096774193548385, '977': 1.0, '17': 0.42160278745644597, '205': 0.5230769230769231, '820': 0.25735294117647056, '36': 0.40998217468805703, '831': 0.32967032967032966, '768': 0.23908045977011494, '445': 0.07638565440149045, '552': 0.6666666666666666, '678': 0.17625979843225084, '547': 0.37516869095816463, '71': 0.4079279279279279, '876': 0.39285714285714285, '202': 0.4222222222222222, '517': 0.43956043956043955, '755': 0.2605042016806723, '3': 0.1724125495852867, '537': 0.2735632183908046, '379': 0.3159183673469388, '898': 0.2564102564102564, '762': 0.30127041742286753, '1146': 0.21666666666666667, '41': 0.4378531073446328, '792': 0.28654970760233917, '1094': 0.23809523809523808, '660': 0.19933362306243663, '883': 0.11857707509881422, '611': 0.28205128205128205, '485': 0.26276813074565886, '767': 0.7777777777777778, '596': 0.45588235294117646, '323': 0.38461538461538464, '1054': 0.4857142857142857, '964': 0.2857142857142857, '1006': 0.27898550724637683, '378': 0.2, '582': 0.20712620712620713, '780': 0.5, '791': 0.3264423076923077, '837': 0.24242424242424243, '771': 0.37701149425287356, '1075': 0.3333333333333333, '839': 0.34460887949260044, '843': 0.4666666666666667, '1047': 0.6666666666666666, '954': 0.16666666666666666, '67': 0.39215686274509803, '769': 0.3689839572192513, '93': 0.4815686274509804, '835': 0.3235294117647059, '310': 0.30721966205837176, '1117': 0.4, '667': 0.10221619176843058, '818': 0.4065934065934066, '63': 0.2798701298701299, '486': 0.41654571843251087, '25': 0.4123076923076923, '879': 0.35833333333333334, '738': 0.1813664596273292, '103': 0.41041854862993077, '344': 0.3310344827586207, '283': 0.26737967914438504, '433': 0.8, '472': 0.4, '776': 0.4090909090909091, '811': 0.27956989247311825, '744': 0.18181818181818182, '213': 0.7333333333333333, '1076': 0.1, '26': 0.4318873668188737, '624': 0.5519203413940256, '1031': 0, '188': 0.40942028985507245, '1048': 0.30994152046783624, '332': 0.7222222222222222, '156': 0, '872': 0, '424': 0.4746376811594203, '275': 0.52, '816': 0.4, '976': 0.6, '763': 0.27408412483039346, '988': 0.6666666666666666, '1049': 0, '756': 0.48148148148148145, '549': 0, '1013': 0.3333333333333333, '392': 0.2753623188405797, '1137': 0.16666666666666666, '60': 0.3089430894308943, '566': 0, '503': 0, '1022': 1.0, '712': 0.3310734463276836, '49': 0.29133089133089135, '406': 0.45519203413940257, '546': 0.3333333333333333, '473': 0.16666666666666666, '399': 0.24175824175824176, '134': 0.5964912280701754, '237': 0.4430769230769231, '836': 0, '1136': 0.39215686274509803, '462': 0.21785421785421785, '423': 0, '439': 0, '193': 0.4711864406779661, '446': 0.23829489867225717, '916': 0.7142857142857143, '656': 0.5, '246': 0.24369747899159663, '568': 0.42857142857142855, '545': 0.25, '10': 0.26179463459759483, '8': 0.21868552903035662, '58': 0.43333333333333335, '431': 0.5256410256410257, '131': 0.2946298984034833, '169': 0.4111111111111111, '299': 0.8, '942': 0.3485064011379801, '219': 0.3188405797101449, '277': 0.5512605042016807, '173': 0.37888198757763975, '168': 0.264089427107592, '309': 0.4084084084084084, '125': 0.249876968503937, '252': 0.5333333333333333, '416': 0.5238095238095238, '765': 0.32765151515151514, '936': 0.3561253561253561, '1175': 0.45588235294117646, '1138': 0.30303030303030304, '441': 0.4, '75': 0.2911338448422847, '1102': 0.6, '334': 0.31264367816091954, '809': 0.3386243386243386, '144': 0.4147727272727273, '187': 0.45546218487394957, '518': 0.3292847503373819, '171': 0.3439878234398782, '760': 0.21052631578947367, '1104': 0.2857142857142857, '893': 0.48484848484848486, '859': 0.2948717948717949, '415': 0.7454545454545455, '124': 0.3200568990042674, '147': 0.61, '120': 0.3266769073220686, '456': 0, '210': 0.4117647058823529, '646': 0.5, '96': 0.4699582027168234, '1034': 0.4095238095238095, '91': 0.2974257425742574, '652': 0.2905982905982906, '207': 0.5123152709359606, '587': 0.14039408866995073, '179': 0.38095238095238093, '775': 0.42317073170731706, '666': 0.8444444444444444, '208': 0, '759': 0.26666666666666666, '1009': 0.32142857142857145, '1126': 0.41818181818181815, '311': 1.0, '44': 0.5422885572139303, '852': 0.4319327731092437, '877': 0.48484848484848486, '535': 0.20676691729323307, '1086': 0.4358974358974359, '347': 0.7, '821': 0.5357142857142857, '1111': 0.3672014260249554, '1183': 0, '215': 0.21816168327796234, '786': 0.3005952380952381, '133': 0.38636363636363635, '1003': 0.2789473684210526, '921': 0, '1002': 0.425, '631': 0.35984848484848486, '802': 0.28354430379746837, '1186': 0.21428571428571427, '326': 0.6625615763546798, '959': 0.6666666666666666, '180': 0.44761904761904764, '621': 1.0, '203': 0.575, '273': 1.0, '348': 0.2689684569479966, '45': 0.2708333333333333, '1000': 0.42857142857142855, '464': 0.16176470588235295, '471': 0, '218': 0.14245014245014245, '1172': 0.3, '580': 0.32688172043010755, '126': 0.2916332531408714, '248': 0.44543650793650796, '1042': 0.5904761904761905, '107': 0.42417582417582417, '897': 0.375, '570': 0.4666666666666667, '889': 1.0, '984': 0.6, '910': 0.3333333333333333, '161': 0, '788': 0.3333333333333333, '743': 0.2878787878787879, '242': 0.3826530612244898, '291': 0.13333333333333333, '1095': 0.41818181818181815, '146': 0.6881720430107527, '235': 0.35061287027579163, '444': 0, '325': 0.4471380471380471, '501': 0.2687793427230047, '807': 0.31494252873563217, '1144': 0.48917748917748916, '32': 0.27196467991169976, '1109': 0.358974358974359, '829': 0.2023762376237624, '674': 0.6190476190476191, '117': 0.179859344605716, '896': 0.30612244897959184, '926': 0.4222222222222222, '785': 0.3231707317073171, '589': 0.3333333333333333, '1168': 0.391812865497076, '514': 0.3333333333333333, '571': 0, '42': 0.4398496240601504, '288': 0.5606060606060606, '1056': 0.4789473684210526, '864': 0.3544973544973545, '870': 0.3939393939393939, '745': 0.3891625615763547, '890': 0.42735042735042733, '87': 0, '461': 0.3245967741935484, '249': 0.4066666666666667, '956': 0.3586206896551724, '1018': 0.48717948717948717, '111': 0.4690185436454093, '333': 1.0, '141': 0.35079365079365077, '626': 0.6181818181818182, '224': 0.15876623376623378, '1101': 0.2878787878787879, '1020': 0.41106719367588934, '318': 0.16666666666666666, '324': 0.5714285714285714, '178': 0.22312470138557094, '822': 0.4, '653': 0.34992458521870284, '212': 0.48497554157931516, '761': 0.15942028985507245, '798': 0.3115942028985507, '904': 0.41911764705882354, '832': 0.38461538461538464, '294': 0.45075757575757575, '495': 0.3412698412698413, '287': 0.5869565217391305, '858': 0.3904761904761905, '659': 0.3333333333333333, '217': 0.5238095238095238, '949': 0.36764705882352944, '34': 0.47333333333333333, '1041': 1.0, '175': 0.4, '1074': 0.4888888888888889, '62': 0.3333333333333333, '770': 0.1657142857142857, '367': 0.25, '943': 0.4090909090909091, '991': 0.4331983805668016, '1016': 0.7333333333333333, '922': 0.5, '391': 0.3546218487394958, '64': 0.27644444444444444, '57': 0.2967741935483871, '958': 0.5384615384615384, '812': 0.2537634408602151, '748': 0.36333333333333334, '869': 0.2924731182795699, '643': 0.5428571428571428, '793': 0.34558823529411764, '27': 0.3078387813392574, '908': 0.4485294117647059, '642': 1.0, '873': 0, '70': 0.3390151515151515, '533': 0.3333333333333333, '95': 0.47371031746031744, '269': 0.21212121212121213, '502': 1.0, '548': 0.5497076023391813, '975': 0.3333333333333333, '123': 0.3139423076923077, '579': 0.4427899686520376, '875': 0.4, '1039': 0.2692307692307692, '80': 0.31768388106416273, '572': 0.42857142857142855, '924': 0.4444444444444444, '48': 0.3526675786593707, '20': 0.3333333333333333, '320': 0.6666666666666666, '23': 0.3622163277335691, '155': 0.30165912518853694, '638': 0.28662083553675305, '182': 0.38333333333333336, '389': 0.8333333333333334, '1107': 0.7238095238095238, '1090': 0.3181818181818182, '108': 0.29996250468691416, '337': 0.4154334038054968, '965': 0.3137254901960784, '1015': 0.4, '1057': 0.1, '805': 0.325609756097561, '83': 0.3318077803203661, '983': 0.6666666666666666, '206': 0.5769230769230769, '930': 0.4166666666666667, '81': 0.5898520084566596, '952': 0.31868131868131866, '736': 0.2234876773711725, '1062': 0, '887': 0.21978021978021978, '866': 0.2631578947368421, '414': 0.6, '105': 0.2394622093023256, '12': 0.26356589147286824, '817': 0.3181818181818182, '393': 0.5526315789473685, '540': 0.3619047619047619, '227': 0.1, '51': 0.24332746240346836, '1073': 0.3333333333333333, '1150': 0.5769230769230769, '78': 0.5274725274725275, '28': 0.3731060606060606, '787': 0.31387608806963646, '874': 0.28774928774928776, '350': 0.4057142857142857, '43': 0.19047619047619047, '753': 0.23891625615763548, '913': 0.34143049932523617, '935': 0.17316017316017315, '221': 0.1593172119487909, '22': 0.3673197387711582, '766': 0.31343283582089554, '263': 1.0, '158': 0.4, '827': 0.3631578947368421, '909': 0.25101214574898784, '89': 0.41020265548567436, '1029': 1.0, '118': 0.12565120666835627, '619': 1.0, '630': 0.1484480431848853, '184': 0.29448621553884713, '824': 0.3090909090909091, '1025': 1.0, '247': 0.46190476190476193, '1010': 0.42857142857142855, '303': 0.22641005078855922, '750': 0.4, '519': 0.31311475409836065, '594': 0.20679320679320679, '243': 0.5527210884353742, '421': 0.7, '790': 0.37549407114624506, '882': 0.3333333333333333, '1112': 0.3333333333333333, '1059': 0, '1035': 0.5095238095238095, '799': 0.3238095238095238, '458': 0.4, '436': 0.22467532467532467, '492': 0.6666666666666666, '225': 0.3333333333333333, '931': 0.3660130718954248, '675': 0.2033898305084746, '584': 0.2572298325722983, '1205': 0.23809523809523808, '412': 0.39216832261835183, '16': 0.42795698924731185, '450': 1.0, '602': 1.0, '754': 0.3626373626373626, '957': 0.24444444444444444, '167': 0.49099099099099097, '891': 0.6111111111111112, '1005': 0, '1174': 0.6181818181818182, '385': 0.375, '33': 0.4223776223776224, '356': 0.5714285714285714, '46': 0.4056987788331072, '752': 0.47058823529411764, '937': 0.3333333333333333, '962': 0.42857142857142855, '76': 0.19529675251959686, '308': 0, '238': 0.35150244584206847, '261': 0.5384615384615384, '281': 0.4717741935483871, '515': 0.3332278481012658, '527': 0, '331': 0.75, '739': 0.23588709677419356, '106': 0.5248296007789679, '438': 0.5, '491': 0.4888888888888889, '857': 0.14396456256921372, '457': 0.19444444444444445, '1050': 0.26842105263157895, '376': 0.5333333333333333, '733': 0.1111111111111111, '152': 0.6795698924731183, '172': 0.46292134831460674, '1105': 0, '151': 0.431990231990232, '352': 0.34012345679012346, '538': 0.42758620689655175, '948': 0.5, '240': 0.45217391304347826, '110': 0.5679442508710801, '699': 0.21794871794871795, '2': 0.3125548726953468, '4': 0.31059506531204645, '551': 0.2694681163679107, '826': 0.24516129032258063, '241': 0.44561815336463223, '516': 0.42355889724310775, '142': 0.5321637426900585, '140': 0.5533596837944664, '740': 0.29959183673469386, '993': 0.2896551724137931, '114': 0.2649859943977591, '810': 0.37142857142857144, '856': 0.2678062678062678, '264': 0.47619047619047616, '181': 0.2222222222222222, '830': 0.26406926406926406, '663': 0.2545454545454545, '808': 0.3162393162393162, '266': 0.43351063829787234, '440': 0, '387': 0.3333333333333333, '61': 0.43205128205128207, '784': 0.26612244897959186, '35': 0.37902097902097903, '881': 0.30303030303030304, '689': 0.20295091839807286, '1044': 0.47619047619047616, '999': 0.5163398692810458, '183': 0.053647195582679455, '360': 0.5, '402': 0.10989010989010989, '917': 0.46153846153846156, '868': 0.11396011396011396, '483': 0.3669950738916256, '293': 0.717948717948718, '94': 0.19138934885956946, '1033': 0.35833333333333334, '509': 0.6222222222222222, '1115': 0.6818181818181818, '200': 0.47619047619047616, '669': 0.34545454545454546, '863': 0.4411764705882353, '918': 0.16666666666666666, '1081': 0, '401': 0.6, '100': 0.3446153846153846, '1053': 0.4, '605': 0.2554932211313698, '487': 0.2242199894235854, '851': 0.3333333333333333, '478': 0.6025641025641025, '583': 0.24836601307189543, '371': 0.2857142857142857, '895': 0.4095238095238095, '153': 0.38303693570451436, '15': 0.12010050251256281, '195': 0.5636363636363636, '1026': 0.45054945054945056, '1103': 0.3391304347826087, '803': 0.509090909090909, '1173': 0.38461538461538464, '90': 0.30428134556574926, '369': 0.3333333333333333, '302': 0.06619268621836016, '1037': 0.3333333333333333, '654': 0.3172905525846702, '838': 0.28888888888888886, '1032': 0, '903': 0.5666666666666667, '828': 0.3956043956043956, '403': 0.1918656056587091, '978': 0.47035573122529645, '250': 0.45555555555555555, '390': 0.5769230769230769, '932': 0.45714285714285713, '38': 0.350547730829421, '413': 0.4147727272727273, '992': 0.38596491228070173, '135': 0.4183535762483131, '968': 0.2, '245': 0.6, '757': 0.38333333333333336, '97': 0.25183661475168967, '223': 0.4666666666666667, '907': 0.26666666666666666, '84': 0.3094820017559263, '408': 0.4485294117647059, '289': 0.5290322580645161, '797': 0.35714285714285715, '779': 0.36666666666666664, '1065': 0, '99': 0.33554376657824936, '197': 0.43478260869565216, '432': 0.5566502463054187, '777': 0.3010752688172043, '677': 0.17391304347826086, '500': 0.4, '928': 0.25833333333333336, '138': 0.6862745098039216, '998': 0.6666666666666666, '607': 0.7279411764705882, '1106': 0.2777777777777778, '384': 0.39766081871345027, '396': 0.6909090909090909, '359': 0.47435897435897434, '629': 0.38924731182795697, '425': 0.25170068027210885, '655': 0.3310924369747899, '825': 0.47619047619047616, '145': 0.4155464640561075, '562': 0.38095238095238093, '149': 0.521594684385382, '623': 0.8181818181818182, '742': 0.5024630541871922, '986': 1.0, '232': 1.0, '285': 0.3386243386243386, '521': 0.6363636363636364, '834': 0.42424242424242425, '109': 0.4182475158084914, '899': 0.4369230769230769, '209': 0.49206349206349204, '29': 0.4057971014492754, '286': 0.5266666666666666, '335': 0.6544117647058824, '532': 1.0, '840': 0.4642857142857143, '477': 0, '437': 0.38181818181818183, '746': 0.32463768115942027, '919': 0.6666666666666666, '539': 0.17410247472987103, '1058': 0.48484848484848486, '353': 0.29085140137493387, '405': 0.35833333333333334, '300': 0.7121212121212122, '684': 0.36615384615384616, '966': 0.4, '165': 0.43466107617051014, '380': 0.9, '72': 0.41346153846153844, '194': 0.4090909090909091, '68': 0.2966983265490728, '860': 0.4230769230769231, '1': 0.4505928853754941, '50': 0.3655701754385965, '1068': 0.5428571428571428, '434': 1.0, '466': 0.4888888888888889, '31': 0.26666666666666666, '295': 0.8666666666666667, '270': 0.2710843373493976, '128': 0.34591194968553457, '578': 0.1849122807017544, '479': 0.47083926031294454, '1079': 0.37681159420289856, '969': 0, '845': 0.36363636363636365, '1060': 0.3904761904761905, '894': 0.4502923976608187, '841': 0.45263157894736844, '833': 0.3137254901960784, '226': 0.47619047619047616, '595': 0.5, '1024': 0.3954022988505747, '934': 0.37777777777777777, '13': 0.37989886219974717, '101': 0.49567307692307694, '1072': 0.3522727272727273, '321': 0.5, '410': 0.525, '1092': 0.3333333333333333, '670': 0.26143790849673204, '130': 0.3333333333333333, '941': 0.19166666666666668, '199': 0.26666666666666666, '741': 0.3425499231950845, '92': 0.5, '632': 0.36666666666666664, '929': 0.373015873015873, '1004': 0.5494505494505495, '593': 0.1954132823698041, '258': 0.43573988735279057, '778': 0.37351190476190477, '430': 0.4, '911': 0.3333333333333333, '253': 1.0, '981': 0, '290': 0.5663865546218487, '349': 0.2868686868686869, '844': 0.27293980128579776, '1017': 0.6666666666666666, '764': 0.3399014778325123, '1121': 0.43478260869565216, '254': 0.580952380952381, '823': 0.21428571428571427, '198': 0.16120387548958978, '276': 0.6, '86': 0.22693096377306904, '115': 0.23782696177062373, '1038': 0.34065934065934067, '508': 0.5032679738562091, '411': 0.3382352941176471, '749': 0.23684210526315788, '127': 0.15380434782608696, '166': 0.4444444444444444, '1007': 0.4166666666666667, '244': 0.5024875621890548, '1089': 1.0, '504': 0.4485294117647059, '47': 0.42131147540983604, '939': 0.43333333333333335, '474': 0.375609756097561, '955': 0.3333333333333333, '920': 0.4444444444444444, '982': 0.18118059614260668, '157': 0.502903600464576, '407': 0.5606060606060606, '211': 0.44360902255639095, '467': 0.7142857142857143, '1128': 0, '861': 0.4206896551724138, '673': 0.4, '11': 0.1574295169871392}\n",
      "{0: 0.05405405405405406, 1: 0.0374331550802139, 2: 0.04435483870967742, 3: 0.034408602150537634, 4: 0.04126984126984127, 5: 0.04830917874396135, 6: 0.041463414634146344, 7: 0.03840682788051209, 8: 0.04827586206896552, 9: 0.042735042735042736, 10: 0.05591397849462366, 11: 0.043560606060606064, 12: 0.043010752688172046, 13: 0.04285714285714286, 14: 0.04367816091954023, 15: 0.06090808416389812, 16: 0.041025641025641026, 17: 0.03655913978494624, 18: 0.03865546218487395, 19: 0.044563279857397504, 20: 0.046370967741935484, 21: 0.02795698924731183, 22: 0.0453781512605042, 23: 0.03870967741935484, 24: 0.04285714285714286, 25: 0.04924242424242424, 26: 0.04634581105169341, 27: 0.0367816091954023, 28: 0.043697478991596636, 29: 0.041463414634146344, 30: 0.04183535762483131, 31: 0.054187192118226604, 32: 0.03655913978494624, 33: 0.034139402560455195, 34: 0.07076923076923076, 35: 0.046546546546546545, 36: 0.03333333333333333, 37: 0.036585365853658534, 38: 0.03418803418803419, 39: 0.041025641025641026, 40: 0.04597701149425287, 41: 0.0367816091954023, 42: 0.04230769230769231, 43: 0.05128205128205128, 44: 0.045454545454545456, 45: 0.035650623885918005, 46: 0.042328042328042326, 47: 0.03076923076923077, 48: 0.037786774628879895, 49: 0.052307692307692305, 50: 0.052100840336134456, 51: 0.04645760743321719, 52: 0.035650623885918005, 53: 0.029885057471264367, 54: 0.044444444444444446, 55: 0.04086021505376344, 56: 0.037786774628879895, 57: 0.046798029556650245, 58: 0.047619047619047616, 59: 0.0570409982174688, 60: 0.03409090909090909, 61: 0.034482758620689655, 62: 0.03968253968253968, 63: 0.03170731707317073, 64: 0.046031746031746035, 65: 0.04201680672268908, 66: 0.04597701149425287, 67: 0.035940803382663845, 68: 0.036290322580645164, 69: 0.04126984126984127, 70: 0.04413472706155633, 71: 0.02564102564102564, 72: 0.03368176538908246, 73: 0.03701015965166909, 74: 0.05512820512820513, 75: 0.04497354497354497, 76: 0.026515151515151516, 77: 0.04923076923076923, 78: 0.03694581280788178, 79: 0.03908045977011494, 80: 0.03492063492063492, 81: 0.05026455026455026, 82: 0.0392156862745098, 83: 0.034482758620689655, 84: 0.043076923076923075, 85: 0.046798029556650245, 86: 0.04267425320056899, 87: 0.02564102564102564, 88: 0.058712121212121215, 89: 0.0570409982174688, 90: 0.04723346828609987, 91: 0.043560606060606064, 92: 0.0481283422459893, 93: 0.03015873015873016, 94: 0.0392156862745098, 95: 0.05, 96: 0.030252100840336135, 97: 0.05040322580645161, 98: 0.04504504504504504, 99: 0.03260869565217391, 100: 0.025604551920341393, 101: 0.03982930298719772, 102: 0.03201970443349754, 103: 0.034482758620689655, 104: 0.03643724696356275, 105: 0.03753753753753754, 106: 0.03208556149732621, 107: 0.034482758620689655, 108: 0.037037037037037035, 109: 0.038306451612903226, 110: 0.046798029556650245, 111: 0.03697478991596639, 112: 0.034408602150537634, 113: 0.02564102564102564, 114: 0.032196969696969696, 115: 0.04597701149425287, 116: 0.03908045977011494, 117: 0.04433497536945813, 118: 0.06461538461538462, 119: 0.028225806451612902, 120: 0.04597701149425287, 121: 0.0481283422459893, 122: 0.04516129032258064, 123: 0.040998217468805706, 124: 0.04541062801932367, 125: 0.03260869565217391, 126: 0.03285024154589372, 127: 0.03985507246376811, 128: 0.03655913978494624, 129: 0.0367816091954023, 130: 0.042735042735042736, 131: 0.03671497584541063, 132: 0.037037037037037035, 133: 0.046546546546546545, 134: 0.04926108374384237, 135: 0.046798029556650245, 136: 0.03666666666666667, 137: 0.035437430786267994, 138: 0.023809523809523808, 139: 0.05161290322580645, 140: 0.02689075630252101, 141: 0.04433497536945813, 142: 0.05555555555555555, 143: 0.03787878787878788, 144: 0.043560606060606064, 145: 0.05714285714285714, 146: 0.03225806451612903, 147: 0.03977272727272727, 148: 0.04354354354354354, 149: 0.03977272727272727, 150: 0.025974025974025976, 151: 0.0582010582010582, 152: 0.04710144927536232, 153: 0.038461538461538464, 154: 0.05555555555555555, 155: 0.042042042042042045, 156: 0.0582010582010582, 157: 0.036923076923076927, 158: 0.049206349206349205, 159: 0.0374331550802139, 160: 0.03024193548387097, 161: 0.03902439024390244, 162: 0.031746031746031744, 163: 0.03655913978494624, 164: 0.05128205128205128, 165: 0.035437430786267994, 166: 0.044534412955465584, 167: 0.04993252361673414, 168: 0.0291005291005291, 169: 0.05546218487394958, 170: 0.03461538461538462, 171: 0.04723346828609987, 172: 0.04540420819490587, 173: 0.04923076923076923, 174: 0.05291005291005291, 175: 0.034408602150537634, 176: 0.043697478991596636, 177: 0.04516129032258064, 178: 0.04993252361673414, 179: 0.03913630229419703, 180: 0.043010752688172046, 181: 0.053763440860215055, 182: 0.07142857142857142, 183: 0.050793650793650794, 184: 0.03940886699507389, 185: 0.04, 186: 0.052873563218390804, 187: 0.04634581105169341, 188: 0.04504504504504504, 189: 0.05846774193548387, 190: 0.03655913978494624, 191: 0.04318936877076412, 192: 0.05714285714285714, 193: 0.047619047619047616, 194: 0.033846153846153845, 195: 0.030303030303030304, 196: 0.04487179487179487, 197: 0.04873949579831933, 198: 0.05113636363636364, 199: 0.059233449477351915, 200: 0.04413472706155633, 201: 0.047311827956989246, 202: 0.04931972789115646, 203: 0.037037037037037035, 204: 0.04923076923076923, 205: 0.05113636363636364, 206: 0.05105105105105105, 207: 0.0367816091954023, 208: 0.040336134453781515, 209: 0.045121951219512194, 210: 0.03650793650793651, 211: 0.03666666666666667, 212: 0.05665024630541872, 213: 0.05806451612903226, 214: 0.0374331550802139, 215: 0.03765227021040975, 216: 0.031746031746031744, 217: 0.04694167852062589, 218: 0.030303030303030304, 219: 0.043076923076923075, 220: 0.04873949579831933, 221: 0.047619047619047616, 222: 0.04187192118226601, 223: 0.03201970443349754, 224: 0.031746031746031744, 225: 0.03913630229419703, 226: 0.04201680672268908, 227: 0.05057471264367816, 228: 0.057057057057057055, 229: 0.04588394062078273, 230: 0.05042016806722689, 231: 0.045454545454545456, 232: 0.046031746031746035, 233: 0.056451612903225805, 234: 0.06417112299465241, 235: 0.046370967741935484, 236: 0.0392156862745098, 237: 0.03333333333333333, 238: 0.05591397849462366, 239: 0.05, 240: 0.047058823529411764, 241: 0.04710144927536232, 242: 0.03870967741935484, 243: 0.06324110671936758, 244: 0.06896551724137931, 245: 0.03643724696356275, 246: 0.03076923076923077, 247: 0.05747126436781609, 248: 0.036290322580645164, 249: 0.0582010582010582, 250: 0.05113636363636364, 251: 0.04497354497354497, 252: 0.0481283422459893, 253: 0.05057471264367816, 254: 0.033846153846153845, 255: 0.055384615384615386, 256: 0.03048780487804878, 257: 0.040998217468805706, 258: 0.05042016806722689, 259: 0.023172905525846704, 260: 0.023172905525846704, 261: 0.03015873015873016, 262: 0.033738191632928474, 263: 0.043560606060606064, 264: 0.036004645760743324, 265: 0.022792022792022793, 266: 0.040169133192389, 267: 0.04093567251461988, 268: 0.028528528528528527, 269: 0.05413105413105413, 270: 0.0427807486631016, 271: 0.044563279857397504, 272: 0.025806451612903226, 273: 0.034139402560455195, 274: 0.03556187766714083, 275: 0.0453781512605042, 276: 0.0291005291005291, 277: 0.04267425320056899, 278: 0.04597701149425287, 279: 0.045454545454545456, 280: 0.04187192118226601, 281: 0.049494949494949494, 282: 0.041379310344827586, 283: 0.03870967741935484, 284: 0.03982930298719772, 285: 0.03666666666666667, 286: 0.05110336817653891, 287: 0.0453781512605042, 288: 0.028225806451612902, 289: 0.04878048780487805, 290: 0.04723346828609987, 291: 0.04645760743321719, 292: 0.05546218487394958, 293: 0.03418803418803419, 294: 0.04843304843304843, 295: 0.050793650793650794, 296: 0.05928853754940711, 297: 0.07368421052631578, 298: 0.043010752688172046, 299: 0.06842105263157895, 300: 0.03333333333333333, 301: 0.05546218487394958, 302: 0.06159420289855073, 303: 0.04354354354354354, 304: 0.04827586206896552, 305: 0.05128205128205128, 306: 0.04497354497354497, 307: 0.0427807486631016, 308: 0.03492063492063492, 309: 0.041025641025641026, 310: 0.038461538461538464, 311: 0.018145161290322582, 312: 0.02766798418972332, 313: 0.05496828752642706, 314: 0.043478260869565216, 315: 0.046153846153846156, 316: 0.03986710963455149, 317: 0.034274193548387094, 318: 0.0453781512605042, 319: 0.043697478991596636, 320: 0.04285714285714286, 321: 0.03508771929824561, 322: 0.03787878787878788, 323: 0.04435483870967742, 324: 0.0367816091954023, 325: 0.054924242424242424, 326: 0.04873949579831933, 327: 0.04666666666666667, 328: 0.053763440860215055, 329: 0.03865546218487395, 330: 0.029556650246305417, 331: 0.044563279857397504, 332: 0.04843304843304843, 333: 0.03556187766714083, 334: 0.049494949494949494, 335: 0.046370967741935484, 336: 0.04435483870967742, 337: 0.036544850498338874, 338: 0.04597701149425287, 339: 0.04710144927536232, 340: 0.03694581280788178, 341: 0.03968253968253968, 342: 0.04862745098039216, 343: 0.04516129032258064, 344: 0.039525691699604744, 345: 0.06349206349206349, 346: 0.04756871035940803, 347: 0.026455026455026454, 348: 0.03414634146341464, 349: 0.04838709677419355, 350: 0.035650623885918005, 351: 0.040998217468805706, 352: 0.04551920341394026, 353: 0.04946236559139785, 354: 0.03698435277382646, 355: 0.03211517165005537, 356: 0.059113300492610835, 357: 0.034482758620689655, 358: 0.05333333333333334, 359: 0.04329004329004329, 360: 0.03439153439153439, 361: 0.03697478991596639, 362: 0.03896103896103896, 363: 0.03133903133903134, 364: 0.029689608636977057, 365: 0.03650793650793651, 366: 0.029885057471264367, 367: 0.041379310344827586, 368: 0.04827586206896552, 369: 0.035918367346938776, 370: 0.041251778093883355, 371: 0.018518518518518517, 372: 0.024615384615384615, 373: 0.056910569105691054, 374: 0.04435483870967742, 375: 0.04827586206896552, 376: 0.03671497584541063, 377: 0.035940803382663845, 378: 0.02804878048780488, 379: 0.03666666666666667, 380: 0.044534412955465584, 381: 0.053763440860215055, 382: 0.03225806451612903, 383: 0.04285714285714286, 384: 0.04065040650406504, 385: 0.06401137980085349, 386: 0.04267425320056899, 387: 0.04154589371980676, 388: 0.043010752688172046, 389: 0.03322259136212625, 390: 0.02462121212121212, 391: 0.041379310344827586, 392: 0.04634581105169341, 393: 0.029556650246305417, 394: 0.04358974358974359, 395: 0.03225806451612903, 396: 0.0374331550802139, 397: 0.053475935828877004, 398: 0.03902439024390244, 399: 0.043560606060606064, 400: 0.03655913978494624, 401: 0.028409090909090908, 402: 0.03439153439153439, 403: 0.04230769230769231, 404: 0.048625792811839326, 405: 0.047311827956989246, 406: 0.04843304843304843, 407: 0.029885057471264367, 408: 0.036290322580645164, 409: 0.03133903133903134, 410: 0.047619047619047616, 411: 0.052552552552552555, 412: 0.05057471264367816, 413: 0.034274193548387094, 414: 0.0412262156448203, 415: 0.041379310344827586, 416: 0.05, 417: 0.047619047619047616, 418: 0.042081949058693245, 419: 0.05128205128205128, 420: 0.046546546546546545, 421: 0.040336134453781515, 422: 0.029689608636977057, 423: 0.0453781512605042, 424: 0.04032258064516129, 425: 0.03529411764705882, 426: 0.05303030303030303, 427: 0.026737967914438502, 428: 0.06155632984901278, 429: 0.023715415019762844, 430: 0.04054054054054054, 431: 0.03484320557491289, 432: 0.04086021505376344, 433: 0.05291005291005291, 434: 0.04551920341394026, 435: 0.04516129032258064, 436: 0.05303030303030303, 437: 0.050793650793650794, 438: 0.04804804804804805, 439: 0.03968253968253968, 440: 0.047619047619047616, 441: 0.04540420819490587, 442: 0.031932773109243695, 443: 0.04924242424242424, 444: 0.0429732868757259, 445: 0.04032258064516129, 446: 0.044444444444444446, 447: 0.05555555555555555, 448: 0.04497354497354497, 449: 0.04804804804804805, 450: 0.037037037037037035, 451: 0.047619047619047616, 452: 0.03015873015873016, 453: 0.05172413793103448, 454: 0.06837606837606838, 455: 0.034482758620689655, 456: 0.03982930298719772, 457: 0.035897435897435895, 458: 0.03864734299516908, 459: 0.034139402560455195, 460: 0.046511627906976744, 461: 0.04827586206896552, 462: 0.05517241379310345, 463: 0.04, 464: 0.04267425320056899, 465: 0.02926829268292683, 466: 0.03409090909090909, 467: 0.037037037037037035, 468: 0.05263157894736842, 469: 0.0453781512605042, 470: 0.053156146179401995, 471: 0.029885057471264367, 472: 0.03671497584541063, 473: 0.02689075630252101, 474: 0.04645760743321719, 475: 0.030107526881720432, 476: 0.04, 477: 0.043076923076923075, 478: 0.043184885290148446, 479: 0.05172413793103448, 480: 0.03201970443349754, 481: 0.04551920341394026, 482: 0.03153153153153153, 483: 0.052564102564102565, 484: 0.031746031746031744, 485: 0.043184885290148446, 486: 0.024955436720142603, 487: 0.04804804804804805, 488: 0.042042042042042045, 489: 0.04329004329004329, 490: 0.04551920341394026, 491: 0.043010752688172046, 492: 0.04097452934662237, 493: 0.047311827956989246, 494: 0.04233870967741935, 495: 0.054924242424242424, 496: 0.059743954480796585, 497: 0.046798029556650245, 498: 0.046798029556650245, 499: 0.057971014492753624, 500: 0.04994192799070848, 501: 0.044563279857397504, 502: 0.03977272727272727, 503: 0.043560606060606064, 504: 0.02849002849002849, 505: 0.04097452934662237, 506: 0.049910873440285206, 507: 0.03787878787878788, 508: 0.04804804804804805, 509: 0.044444444444444446, 510: 0.04, 511: 0.05517241379310345, 512: 0.032196969696969696, 513: 0.03840682788051209, 514: 0.041025641025641026, 515: 0.03225806451612903, 516: 0.03666666666666667, 517: 0.03133903133903134, 518: 0.043010752688172046, 519: 0.0392156862745098, 520: 0.03940886699507389, 521: 0.041811846689895474, 522: 0.06157635467980296, 523: 0.02834008097165992, 524: 0.03418803418803419, 525: 0.03977272727272727, 526: 0.05, 527: 0.03865546218487395, 528: 0.06666666666666667, 529: 0.04032258064516129, 530: 0.015384615384615385, 531: 0.03875968992248062, 532: 0.032196969696969696, 533: 0.05040322580645161, 534: 0.047058823529411764, 535: 0.03333333333333333, 536: 0.03529411764705882, 537: 0.05555555555555555, 538: 0.038461538461538464, 539: 0.03225806451612903, 540: 0.04923076923076923, 541: 0.05714285714285714, 542: 0.03698435277382646, 543: 0.04, 544: 0.03492063492063492, 545: 0.07384615384615385, 546: 0.030303030303030304, 547: 0.045454545454545456, 548: 0.044096728307254626, 549: 0.034482758620689655, 550: 0.05525846702317291, 551: 0.03977272727272727, 552: 0.04497354497354497, 553: 0.03940886699507389, 554: 0.03598484848484849, 555: 0.05517241379310345, 556: 0.03977272727272727, 557: 0.03201970443349754, 558: 0.03439153439153439, 559: 0.04597701149425287, 560: 0.038461538461538464, 561: 0.036290322580645164, 562: 0.04141414141414142, 563: 0.04734848484848485, 564: 0.03439153439153439, 565: 0.05128205128205128, 566: 0.0427807486631016, 567: 0.039886039886039885, 568: 0.06157635467980296, 569: 0.05128205128205128, 570: 0.0338680926916221, 571: 0.03, 572: 0.04497354497354497, 573: 0.04836415362731152, 574: 0.05731707317073171, 575: 0.041811846689895474, 576: 0.04433497536945813, 577: 0.040998217468805706, 578: 0.03753753753753754, 579: 0.04435483870967742, 580: 0.05547652916073969, 581: 0.04390243902439024, 582: 0.02857142857142857, 583: 0.05040322580645161, 584: 0.044563279857397504, 585: 0.05042016806722689, 586: 0.04838709677419355, 587: 0.04516129032258064, 588: 0.05128205128205128, 589: 0.03977272727272727, 590: 0.03655913978494624, 591: 0.03024193548387097, 592: 0.03870967741935484, 593: 0.03875968992248062, 594: 0.026515151515151516, 595: 0.031746031746031744, 596: 0.046370967741935484, 597: 0.04516129032258064, 598: 0.03908045977011494, 599: 0.03948896631823461, 600: 0.03903903903903904, 601: 0.026455026455026454, 602: 0.05405405405405406, 603: 0.041463414634146344, 604: 0.033816425120772944, 605: 0.03439153439153439, 606: 0.03, 607: 0.047058823529411764, 608: 0.026515151515151516, 609: 0.06282051282051282, 610: 0.03986710963455149, 611: 0.06157635467980296, 612: 0.044563279857397504, 613: 0.035650623885918005, 614: 0.0380952380952381, 615: 0.05238095238095238, 616: 0.03697478991596639, 617: 0.05555555555555555, 618: 0.04878048780487805, 619: 0.042735042735042736, 620: 0.03218390804597701, 621: 0.06084656084656084, 622: 0.046546546546546545, 623: 0.037037037037037035, 624: 0.047619047619047616, 625: 0.04187192118226601, 626: 0.03655913978494624, 627: 0.04435483870967742, 628: 0.04433497536945813, 629: 0.05263157894736842, 630: 0.046031746031746035, 631: 0.030303030303030304, 632: 0.03133903133903134, 633: 0.03225806451612903, 634: 0.03903903903903904, 635: 0.04285714285714286, 636: 0.04054054054054054, 637: 0.03218390804597701, 638: 0.03940886699507389, 639: 0.04827586206896552, 640: 0.047435897435897434, 641: 0.04126984126984127, 642: 0.05138339920948617, 643: 0.047619047619047616, 644: 0.044534412955465584, 645: 0.047058823529411764, 646: 0.04497354497354497, 647: 0.04054054054054054, 648: 0.044563279857397504, 649: 0.0582010582010582, 650: 0.04873949579831933, 651: 0.05846774193548387, 652: 0.04024390243902439, 653: 0.03153153153153153, 654: 0.04285714285714286, 655: 0.030252100840336135, 656: 0.03903903903903904, 657: 0.04054054054054054, 658: 0.05105105105105105, 659: 0.03968253968253968, 660: 0.047311827956989246, 661: 0.050793650793650794, 662: 0.0453781512605042, 663: 0.04487179487179487, 664: 0.03048780487804878, 665: 0.047619047619047616, 666: 0.047619047619047616, 667: 0.03666666666666667, 668: 0.04126984126984127, 669: 0.03333333333333333, 670: 0.042081949058693245, 671: 0.05161290322580645, 672: 0.04329004329004329, 673: 0.04634581105169341, 674: 0.04666666666666667, 675: 0.04433497536945813, 676: 0.0380952380952381, 677: 0.03218390804597701, 678: 0.06153846153846154, 679: 0.03208556149732621, 680: 0.05042016806722689, 681: 0.031932773109243695, 682: 0.05113636363636364, 683: 0.03218390804597701, 684: 0.035650623885918005, 685: 0.049019607843137254, 686: 0.049910873440285206, 687: 0.04032258064516129, 688: 0.05665024630541872, 689: 0.046031746031746035, 690: 0.03908045977011494, 691: 0.05042016806722689, 692: 0.04285714285714286, 693: 0.04183535762483131, 694: 0.0392156862745098, 695: 0.05665024630541872, 696: 0.027874564459930314, 697: 0.04233870967741935, 698: 0.03836734693877551, 699: 0.05303030303030303, 700: 0.04, 701: 0.031746031746031744, 702: 0.03717948717948718, 703: 0.04024390243902439, 704: 0.0392156862745098, 705: 0.05443548387096774, 706: 0.05238095238095238, 707: 0.05533596837944664, 708: 0.05241935483870968, 709: 0.0392156862745098, 710: 0.056910569105691054, 711: 0.0429732868757259, 712: 0.04413472706155633, 713: 0.04694167852062589, 714: 0.03666666666666667, 715: 0.031932773109243695, 716: 0.045454545454545456, 717: 0.04126984126984127, 718: 0.046798029556650245, 719: 0.03698435277382646, 720: 0.04413472706155633, 721: 0.04032258064516129, 722: 0.035650623885918005, 723: 0.04054054054054054, 724: 0.04588394062078273, 725: 0.03492063492063492, 726: 0.03717948717948718, 727: 0.03201970443349754, 728: 0.04086021505376344, 729: 0.03205128205128205, 730: 0.03865546218487395, 731: 0.03977272727272727, 732: 0.05026455026455026, 733: 0.0285204991087344, 734: 0.030252100840336135, 735: 0.06613756613756613, 736: 0.03716608594657375, 737: 0.037037037037037035, 738: 0.031746031746031744, 739: 0.03865546218487395, 740: 0.03556187766714083, 741: 0.045584045584045586, 742: 0.0481283422459893, 743: 0.034482758620689655, 744: 0.05172413793103448, 745: 0.043478260869565216, 746: 0.038306451612903226, 747: 0.028985507246376812, 748: 0.043697478991596636, 749: 0.05846774193548387, 750: 0.031294452347083924, 751: 0.044296788482835, 752: 0.03968253968253968, 753: 0.020689655172413793, 754: 0.023172905525846704, 755: 0.047058823529411764, 756: 0.037037037037037035, 757: 0.044563279857397504, 758: 0.04201680672268908, 759: 0.045454545454545456, 760: 0.05161290322580645, 761: 0.05627705627705628, 762: 0.03529411764705882, 763: 0.043697478991596636, 764: 0.04187192118226601, 765: 0.04634581105169341, 766: 0.044534412955465584, 767: 0.03, 768: 0.0392156862745098, 769: 0.04, 770: 0.040336134453781515, 771: 0.051209103840682786, 772: 0.04540420819490587, 773: 0.037786774628879895, 774: 0.03453453453453453, 775: 0.01839080459770115, 776: 0.047311827956989246, 777: 0.045454545454545456, 778: 0.0374331550802139, 779: 0.043697478991596636, 780: 0.04634581105169341, 781: 0.006153846153846154, 782: 0.036290322580645164, 783: 0.044563279857397504, 784: 0.03940886699507389, 785: 0.047619047619047616, 786: 0.03985507246376811, 787: 0.033846153846153845, 788: 0.045584045584045586, 789: 0.03805496828752643, 790: 0.0338680926916221, 791: 0.051209103840682786, 792: 0.07692307692307693}\n"
     ]
    },
    {
     "ename": "TypeError",
     "evalue": "values() takes no arguments (1 given)",
     "output_type": "error",
     "traceback": [
      "\u001B[1;31m---------------------------------------------------------------------------\u001B[0m",
      "\u001B[1;31mTypeError\u001B[0m                                 Traceback (most recent call last)",
      "\u001B[1;32m<ipython-input-90-5298ea6c12fa>\u001B[0m in \u001B[0;36m<module>\u001B[1;34m\u001B[0m\n\u001B[0;32m     30\u001B[0m \u001B[0mrd_graph\u001B[0m \u001B[1;33m=\u001B[0m \u001B[0mnx\u001B[0m\u001B[1;33m.\u001B[0m\u001B[0mfast_gnp_random_graph\u001B[0m\u001B[1;33m(\u001B[0m\u001B[0mnodes\u001B[0m\u001B[1;33m,\u001B[0m \u001B[0mp\u001B[0m\u001B[1;33m)\u001B[0m\u001B[1;33m\u001B[0m\u001B[1;33m\u001B[0m\u001B[0m\n\u001B[0;32m     31\u001B[0m \u001B[1;33m\u001B[0m\u001B[0m\n\u001B[1;32m---> 32\u001B[1;33m \u001B[0mrd_graph_coeff\u001B[0m \u001B[1;33m=\u001B[0m \u001B[0mlist\u001B[0m\u001B[1;33m(\u001B[0m\u001B[0mnx\u001B[0m\u001B[1;33m.\u001B[0m\u001B[0mclustering\u001B[0m\u001B[1;33m(\u001B[0m\u001B[0mrd_graph\u001B[0m\u001B[1;33m)\u001B[0m\u001B[1;33m.\u001B[0m\u001B[0mvalues\u001B[0m\u001B[1;33m(\u001B[0m\u001B[1;33m(\u001B[0m\u001B[1;33m)\u001B[0m\u001B[1;33m)\u001B[0m\u001B[1;33m)\u001B[0m\u001B[1;33m\u001B[0m\u001B[1;33m\u001B[0m\u001B[0m\n\u001B[0m\u001B[0;32m     33\u001B[0m \u001B[0mplot_ccdf\u001B[0m\u001B[1;33m(\u001B[0m\u001B[0mdata\u001B[0m \u001B[1;33m=\u001B[0m\u001B[0mrd_graph_coeff\u001B[0m\u001B[1;33m)\u001B[0m\u001B[1;33m\u001B[0m\u001B[1;33m\u001B[0m\u001B[0m\n\u001B[0;32m     34\u001B[0m \u001B[1;33m\u001B[0m\u001B[0m\n",
      "\u001B[1;31mTypeError\u001B[0m: values() takes no arguments (1 given)"
     ]
    },
    {
     "data": {
      "text/plain": "<Figure size 432x288 with 1 Axes>",
      "image/png": "[encoded data removed]"
     },
     "metadata": {
      "needs_background": "light"
     },
     "output_type": "display_data"
    }
   ],
   "source": [
    "# TODO: to check it carefully and learn it well\n",
    "#plot the clustering coefficient of the LCC and a G(n,p) network in CCDF format\n",
    "# the previous graph setting\n",
    "\n",
    "\n",
    "\n",
    "cluster_coefficient_g_sub = nx.clustering(undirected_cc_G)\n",
    "print(cluster_coefficient_g_sub)\n",
    "\n",
    "# plt.scatter(range(len(cluster_coefficient_g_sub)), cluster_coefficient_g_sub.values())\n",
    "probs = list(dict(cluster_coefficient_g_sub).values())\n",
    "cumu_probl = [sum(probs[idx::1])/sum(probs) for idx in range(len(probs))]\n",
    "plt.scatter(range(len(probs)), cumu_probl)\n",
    "\n",
    "cluster_coefficient_gnp = nx.clustering(gnp_graph)\n",
    "print(cluster_coefficient_gnp)\n",
    "\n",
    "########################\n",
    "cluster_coefficient_g_sub = nx.clustering(undirected_cc_G)\n",
    "probs = list(dict(cluster_coefficient_g_sub).values())\n",
    "\n",
    "nodes = undirected_cc_G.number_of_nodes()\n",
    "edges = undirected_cc_G.number_of_edges()\n",
    "p = edges * 2/(nodes*(nodes-1))\n",
    "\n",
    "\n",
    "plot_ccdf(data=probs)\n",
    "\n",
    "\n",
    "rd_graph = nx.fast_gnp_random_graph(nodes, p)\n",
    "\n",
    "rd_graph_coeff = list(nx.clustering(rd_graph).values(()))\n",
    "plot_ccdf(data =rd_graph_coeff)\n",
    "\n",
    "from scipy.stats import ks_2samp\n",
    "\n",
    "ks_statistic, p_value = ks_2samp(probs, rd_graph_coeff)\n",
    "print('ks_statistic: ', ks_statistic)\n",
    "print('p_value: ', p_value)\n",
    "\n",
    "\n",
    "\n",
    "# TODO: to check distribution, but give some initial results"
   ]
  },
  {
   "cell_type": "markdown",
   "metadata": {},
   "source": [
    "Are the two distributions statistically different?\n",
    "\n",
    "Yes,  P-value below 0.05 would indicate that the two samples are from different distributions."
   ]
  },
  {
   "cell_type": "markdown",
   "metadata": {},
   "source": [
    "## Q2"
   ]
  },
  {
   "cell_type": "code",
   "execution_count": null,
   "metadata": {},
   "outputs": [],
   "source": [
    "#Plot the average clustering coefficient as a function of the node degree \n",
    "# Local Clustering Coefficient (LCC)\n",
    "\n",
    "# first, we should compute the degeree of each node\n",
    "# node2degree = undirected_cc_G.degrees()\n",
    "# then we match the cluster coefficient fo the nod\n",
    "# node2cluster_efficient = nx.clustering(undirected_cc_G)\n",
    "# # plot and build\n",
    "#\n",
    "# # modular function building\n",
    "# def node_degree_2_function_match(undirected_G, node_function):\n",
    "#     each_node_degree = {node: val for (node, val) in undirected_G.degree()}\n",
    "#     # make the match\n",
    "#     node_degree_2_function_result_list = {}\n",
    "#     for node, degree in each_node_degree.items():\n",
    "#         node_function = dict(node_function)\n",
    "#         # TODO: some nodes are not included: be careful to check it\n",
    "#         # intuitively, the whole nodes should be considered\n",
    "#         try:\n",
    "#             function_result_one_node = node_function[node]\n",
    "#         except KeyError:\n",
    "#             continue\n",
    "#\n",
    "#         if degree in node_degree_2_function_result_list:\n",
    "#             node_degree_2_function_result_list[degree].append(function_result_one_node)\n",
    "#         else:\n",
    "#             node_degree_2_function_result_list[degree] = [function_result_one_node]\n",
    "#     # compute the global avg\n",
    "#     for key in node_degree_2_function_result_list.keys():\n",
    "#         function_results = node_degree_2_function_result_list[key]\n",
    "#         node_degree_2_function_result_list[key] = sum(function_results)/len(function_results)\n",
    "#\n",
    "#     node_degree_2_function_result_list = {key: value for key, value in sorted(node_degree_2_function_result_list.items(),\n",
    "#                                                        key=lambda item: int(item[0]))}\n",
    "#     return node_degree_2_function_result_list\n",
    "#\n",
    "# node_degree_2_function_result_list = node_degree_2_function_match(undirected_G, node2cluster_efficient)\n",
    "#\n",
    "# plt.scatter(list(node_degree_2_function_result_list.keys()), list(node_degree_2_function_result_list.values()))"
   ]
  },
  {
   "cell_type": "code",
   "execution_count": null,
   "outputs": [],
   "source": [
    "# undirected_cc_G\n",
    "\n",
    "#Plot the average clustering coefficient as a function of the node degree\n",
    "\n",
    "max_degree = 0\n",
    "for i in undirected_cc_G.nodes():\n",
    "  if undirected_cc_G.degree(i) > max_degree:\n",
    "    max_degree = undirected_cc_G.degree(i)\n",
    "\n",
    "# print('max_degree of G_0: ', max_degree)\n",
    "\n",
    "node_degree = np.linspace(2,max_degree, max_degree-1 )\n",
    "# print(node_degree)\n",
    "ave_coeff = []\n",
    "\n",
    "total_coeff= np.zeros((max_degree+1)) # store the sum of neighbor degree corresponding to the specific number of degree\n",
    "cor_degree = np.zeros((max_degree+1)) # store the number of nodes corresponding to the specific number of degree\n",
    "\n",
    "\n",
    "for i in undirected_cc_G.nodes():\n",
    "  cor_degree[undirected_cc_G.degree(i)] +=1\n",
    "  neighbor = [n for n in undirected_cc_G[i]] # the neighbors of node i\n",
    "  count = 0\n",
    "\n",
    "  for j in neighbor: # node j is the neighbor of node i\n",
    "    nei_neighbor = [n for n in undirected_cc_G[j]] # the neighbors of node j\n",
    "    for u in nei_neighbor:\n",
    "      if u in neighbor: # if the neighbor of node j is also node i's neighbor --> friendship triangle\n",
    "        count += 1\n",
    "\n",
    "  k = undirected_cc_G.degree(i)\n",
    "  if k >=2:\n",
    "    coeff = count / (k * (k-1))\n",
    "    total_coeff[undirected_cc_G.degree(i)] += coeff\n",
    "\n",
    "ave_coeff = np.where(np.isnan(total_coeff/cor_degree), 0, total_coeff/cor_degree)\n",
    "\n",
    "\n",
    "plt.figure()\n",
    "plt.scatter(node_degree, ave_coeff[2:])\n",
    "plt.ylim([0.01, 0.7])\n",
    "plt.figure()\n"
   ],
   "metadata": {
    "collapsed": false,
    "pycharm": {
     "name": "#%%\n"
    }
   }
  },
  {
   "cell_type": "markdown",
   "metadata": {},
   "source": [
    "What do you observe based on the above visualization?\n",
    "\n",
    "There is a negative relationship between the average clustering coefficient and the node degree. And the this phenomonon can be statistically siginficant."
   ]
  },
  {
   "cell_type": "markdown",
   "metadata": {},
   "source": [
    "## Q3"
   ]
  },
  {
   "cell_type": "code",
   "execution_count": 158,
   "metadata": {},
   "outputs": [],
   "source": [
    "#plot the transitivity coefficient of the overall network of the LCC and the 100 G(n,p) networks\n",
    "# TODO\n",
    "# code: https://networkx.github.io/documentation/networkx-1.10/reference/generated/networkx.algorithms.cluster.transitivity.html\n",
    "transitivity = nx.transitivity(undirected_cc_G)\n",
    "\n",
    "# similarly, we have:\n",
    "\n",
    "transitivity_gnp_graph = nx.transitivity(gnp_graph)"
   ]
  },
  {
   "cell_type": "markdown",
   "metadata": {},
   "source": [
    "Combining the results of Part-3 and Part-4, can we conclude that the undirected LCC of Part-1 network is a small-world network or not?"
   ]
  },
  {
   "cell_type": "markdown",
   "metadata": {},
   "source": [
    "# Part 5"
   ]
  },
  {
   "cell_type": "code",
   "execution_count": 18,
   "metadata": {},
   "outputs": [
    {
     "name": "stdout",
     "output_type": "stream",
     "text": [
      "the result is: 793\n",
      "0\n",
      "the total count is: 0\n"
     ]
    }
   ],
   "source": [
    "#Part 5\n",
    "# TODO\n",
    "# method one:\n",
    "# for the general triangle computations:\n",
    "# https://networkx.github.io/documentation/networkx-1.10/reference/generated/networkx.algorithms.cluster.triangles.html#networkx.algorithms.cluster.triangles\n",
    "# we can build the collections of any three-node combination, then use triplet to check existance\n",
    "# method two:\n",
    "# we try to get the weakly-connected components with length of three\n",
    "# then, update it, like the link:\n",
    "# link: https://stackoverflow.com/questions/54789591/how-to-find-all-triplets-of-nodes-connected-components-of-size-3-from-a-tsv-fi\n",
    "\n",
    "\n",
    "res = max(nx.strongly_connected_components(G), key=lambda item: len(item))\n",
    "print(\"the result is: {}\".format(len(res)))\n",
    "\n",
    "cc_G = G.subgraph(res)\n",
    "\n",
    "triplets = [c for c in nx.weakly_connected_components(cc_G) if len(c) == 3]\n",
    "# get the initial triplets\n",
    "print(len(triplets))\n",
    "# check the special triplet schedule\n",
    "# for type 9 checking: by checking, one by one, [(1, 1), (1, 1), (1, 1)]\n",
    "\n",
    "# for type 5 checking: actually, the list of (in_degree_num, out_degree_num) combination\n",
    "# will be unique as this point, [(0, 2), (1, 1), (2, 0)]\n",
    "\n",
    "count = 0\n",
    "for node_a, node_b, node_c in triplets:\n",
    "    triplet_G = G.subgraph([node_a, node_b, node_c])\n",
    "    # present the indegree and outdegree distributions and\n",
    "    indegrees = triplet_G.in_degree()\n",
    "    outdegrees = triplet_G.out_degree()\n",
    "\n",
    "    result_list = []\n",
    "    for node in indegrees:\n",
    "        result_list.append((indegrees[node], outdegrees[node]))\n",
    "    result_list = sorted(result_list, key=lambda item: item[0])\n",
    "    if result_list ==  [(1, 1), (1, 1), (1, 1)] or result_list == [(0, 2), (1, 1), (2, 0)]:\n",
    "        count += 1\n",
    "print(\"the total count is: {}\".format(count))"
   ]
  },
  {
   "cell_type": "code",
   "execution_count": 16,
   "outputs": [
    {
     "ename": "TypeError",
     "evalue": "object of type 'generator' has no len()",
     "output_type": "error",
     "traceback": [
      "\u001B[1;31m---------------------------------------------------------------------------\u001B[0m",
      "\u001B[1;31mTypeError\u001B[0m                                 Traceback (most recent call last)",
      "\u001B[1;32m<ipython-input-16-5f20eb6555a5>\u001B[0m in \u001B[0;36m<module>\u001B[1;34m\u001B[0m\n\u001B[0;32m      5\u001B[0m    \u001B[1;32mif\u001B[0m \u001B[0mlen\u001B[0m\u001B[1;33m(\u001B[0m\u001B[0mc\u001B[0m\u001B[1;33m)\u001B[0m \u001B[1;33m==\u001B[0m \u001B[1;36m3\u001B[0m\u001B[1;33m:\u001B[0m\u001B[1;33m\u001B[0m\u001B[1;33m\u001B[0m\u001B[0m\n\u001B[0;32m      6\u001B[0m        \u001B[0mprint\u001B[0m\u001B[1;33m(\u001B[0m\u001B[0mc\u001B[0m\u001B[1;33m)\u001B[0m\u001B[1;33m\u001B[0m\u001B[1;33m\u001B[0m\u001B[0m\n\u001B[1;32m----> 7\u001B[1;33m \u001B[0mlen\u001B[0m\u001B[1;33m(\u001B[0m\u001B[0mnx\u001B[0m\u001B[1;33m.\u001B[0m\u001B[0mweakly_connected_components\u001B[0m\u001B[1;33m(\u001B[0m\u001B[0mcc_G\u001B[0m\u001B[1;33m)\u001B[0m\u001B[1;33m)\u001B[0m\u001B[1;33m\u001B[0m\u001B[1;33m\u001B[0m\u001B[0m\n\u001B[0m\u001B[0;32m      8\u001B[0m \u001B[1;33m\u001B[0m\u001B[0m\n",
      "\u001B[1;31mTypeError\u001B[0m: object of type 'generator' has no len()"
     ]
    }
   ],
   "source": [
    "# for the part 2, we can see this: https://networkx.github.io/documentation/networkx-1.10/reference/generated/networkx.generators.degree_seq.directed_configuration_model.html\n",
    "# \n",
    "# # this method fails\n",
    "# for c in nx.weakly_connected_components(cc_G):\n",
    "#    if len(c) == 3:\n",
    "#        print(c)"
   ],
   "metadata": {
    "collapsed": false,
    "pycharm": {
     "name": "#%%\n"
    }
   }
  },
  {
   "cell_type": "code",
   "execution_count": 21,
   "outputs": [],
   "source": [
    "undirected_cc_G = cc_G.to_undirected()\n",
    "all_cliques= nx.triangles(undirected_cc_G)\n",
    "triad_cliques=[x for x in all_cliques if len(x)==3 ]"
   ],
   "metadata": {
    "collapsed": false,
    "pycharm": {
     "name": "#%%\n"
    }
   }
  },
  {
   "cell_type": "code",
   "execution_count": 24,
   "outputs": [],
   "source": [
    "triplets = [c for c in nx.connected_components(undirected_cc_G) if len(c) == 3]"
   ],
   "metadata": {
    "collapsed": false,
    "pycharm": {
     "name": "#%%\n"
    }
   }
  },
  {
   "cell_type": "code",
   "execution_count": 38,
   "outputs": [
    {
     "name": "stdout",
     "output_type": "stream",
     "text": [
      "the number of FFL:  1434\n",
      "the number of DC:  39306\n"
     ]
    }
   ],
   "source": [
    "# antoher method, try the bfs and use the set to store the results\n",
    "\n",
    "# result not good, since the result is 39,5;then 5, 8, like this\n",
    "# triplets = set()\n",
    "# count = 0\n",
    "# for node in undirected_cc_G.nodes():\n",
    "#     node_bfs_res = list(nx.bfs_edges(undirected_cc_G, node, depth_limit=2))\n",
    "#     for node_bfs_one in node_bfs_res:\n",
    "#         node_a, node_b, node_c = node_bfs_one\n",
    "#\n",
    "#         triplet_G = cc_G.subgraph([node_a, node_b, node_c])\n",
    "#         # present the indegree and outdegree distributions and\n",
    "#         indegrees = triplet_G.in_degree()\n",
    "#         outdegrees = triplet_G.out_degree()\n",
    "#\n",
    "#         result_list = []\n",
    "#         for node in indegrees:\n",
    "#             result_list.append((indegrees[node], outdegrees[node]))\n",
    "#         result_list = sorted(result_list, key=lambda item: item[0])\n",
    "#         if result_list ==  [(1, 1), (1, 1), (1, 1)] or result_list == [(0, 2), (1, 1), (2, 0)]:\n",
    "#             count += 1\n",
    "\n",
    "# approach, method: by traversal the neiborhoods\n",
    "# for node in undirected_cc_G.nodes():\n",
    "#\n",
    "#     neighbors = undirected_cc_G.neighbors(node)\n",
    "#\n",
    "#     for neighbor in neighbors:\n",
    "#         neighbor_of_neighbor = undirected_cc_G(neighbor)\n",
    "#\n",
    "#     for node_bfs_one in node_bfs_res:\n",
    "#         node_a, node_b, node_c = node_bfs_one\n",
    "#\n",
    "#         triplet_G = cc_G.subgraph([node_a, node_b, node_c])\n",
    "#         # present the indegree and outdegree distributions and\n",
    "#         indegrees = triplet_G.in_degree()\n",
    "#         outdegrees = triplet_G.out_degree()\n",
    "#\n",
    "#         result_list = []\n",
    "#         for node in indegrees:\n",
    "#             result_list.append((indegrees[node], outdegrees[node]))\n",
    "#         result_list = sorted(result_list, key=lambda item: item[0])\n",
    "#         if result_list ==  [(1, 1), (1, 1), (1, 1)] or result_list == [(0, 2), (1, 1), (2, 0)]:\n",
    "#             count += 1\n",
    "\n",
    "# finally set form this\n",
    "\n",
    "def count_triplet(graph):\n",
    "  FFL_count = 0\n",
    "  DC_count = 0\n",
    "  for a in graph.nodes():\n",
    "    for b in graph.neighbors(a): # node b is the out_degree of node a\n",
    "      for c in graph.neighbors(b):\n",
    "          if c != a:\n",
    "            triplet_G = graph.subgraph([a, b, c])\n",
    "            # dict from list (xx: bb) to the dictiionay\n",
    "            indegrees = dict(triplet_G.in_degree())\n",
    "            outdegrees = dict(triplet_G.out_degree())\n",
    "            result_list = []\n",
    "            for node in indegrees:\n",
    "                result_list.append((indegrees[node], outdegrees[node]))\n",
    "            result_list = sorted(result_list, key=lambda item: item[0])\n",
    "            if result_list ==  [(1, 1), (1, 1), (1, 1)]:\n",
    "                FFL_count += 1\n",
    "            if  result_list == [(0, 2), (1, 1), (2, 0)]:\n",
    "                DC_count += 1\n",
    "  return FFL_count, DC_count\n",
    "\n",
    "\n",
    "        # node c is the out_degree of node b\n",
    "            # if c in graph.neighbors(a): # if node c is also the out_degree of node a --> feed-forward loop\n",
    "            #   FFL_count += 1\n",
    "            # if c in graph.predecessors(a): # if node c is the in_degree of node a --> direct cycle\n",
    "            #   DC_count += 1\n",
    "\n",
    "\n",
    "FFL_count, DC_count = count_triplet(cc_G)\n",
    "print('the number of FFL: ', FFL_count)\n",
    "print('the number of DC: ', DC_count)"
   ],
   "metadata": {
    "collapsed": false,
    "pycharm": {
     "name": "#%%\n"
    }
   }
  },
  {
   "cell_type": "code",
   "execution_count": 39,
   "outputs": [],
   "source": [
    "# try the neigborhodd search\n",
    "\n"
   ],
   "metadata": {
    "collapsed": false,
    "pycharm": {
     "name": "#%%\n"
    }
   }
  },
  {
   "cell_type": "markdown",
   "metadata": {},
   "source": [
    "Which of the previous triplet types are statistically more common (or less common) in the network of the LCC compared to what we would expense based on chance?"
   ]
  }
 ],
 "metadata": {
  "kernelspec": {
   "display_name": "Python 3",
   "language": "python",
   "name": "python3"
  },
  "language_info": {
   "codemirror_mode": {
    "name": "ipython",
    "version": 3
   },
   "file_extension": ".py",
   "mimetype": "text/x-python",
   "name": "python",
   "nbconvert_exporter": "python",
   "pygments_lexer": "ipython3",
   "version": "3.7.4"
  },
  "toc": {
   "base_numbering": 1,
   "nav_menu": {},
   "number_sections": true,
   "sideBar": true,
   "skip_h1_title": false,
   "title_cell": "Table of Contents",
   "title_sidebar": "Contents",
   "toc_cell": false,
   "toc_position": {},
   "toc_section_display": true,
   "toc_window_display": false
  }
 },
 "nbformat": 4,
 "nbformat_minor": 2
}